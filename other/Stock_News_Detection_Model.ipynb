{
 "cells": [
  {
   "cell_type": "code",
   "execution_count": 1,
   "metadata": {
    "colab": {
     "base_uri": "https://localhost:8080/"
    },
    "id": "pSp2CqIw_0lQ",
    "outputId": "b8196692-8908-4770-fe06-b52d2e19cd18"
   },
   "outputs": [
    {
     "name": "stdout",
     "output_type": "stream",
     "text": [
      "Mounted at /content/drive\n"
     ]
    }
   ],
   "source": [
    "from google.colab import drive\n",
    "drive.mount('/content/drive')"
   ]
  },
  {
   "cell_type": "code",
   "execution_count": 3,
   "metadata": {
    "colab": {
     "base_uri": "https://localhost:8080/"
    },
    "id": "cgNl83C5ADNm",
    "outputId": "706b23fa-8c4a-40a5-939d-91b1c6f65681"
   },
   "outputs": [
    {
     "name": "stdout",
     "output_type": "stream",
     "text": [
      "Collecting emot\n",
      "  Downloading emot-3.1-py3-none-any.whl.metadata (396 bytes)\n",
      "Downloading emot-3.1-py3-none-any.whl (61 kB)\n",
      "\u001b[?25l   \u001b[90m━━━━━━━━━━━━━━━━━━━━━━━━━━━━━━━━━━━━━━━━\u001b[0m \u001b[32m0.0/61.5 kB\u001b[0m \u001b[31m?\u001b[0m eta \u001b[36m-:--:--\u001b[0m\r\n",
      "\u001b[2K   \u001b[90m━━━━━━━━━━━━━━━━━━━━━━━━━━━━━━━━━━━━━━━━\u001b[0m \u001b[32m61.5/61.5 kB\u001b[0m \u001b[31m3.4 MB/s\u001b[0m eta \u001b[36m0:00:00\u001b[0m\n",
      "\u001b[?25hInstalling collected packages: emot\n",
      "Successfully installed emot-3.1\n"
     ]
    }
   ],
   "source": [
    "!pip install emot"
   ]
  },
  {
   "cell_type": "code",
   "execution_count": 2,
   "metadata": {
    "colab": {
     "base_uri": "https://localhost:8080/"
    },
    "id": "i9Heraph1fUo",
    "outputId": "97accafa-87bd-43fb-9c25-3abcc629e1e1"
   },
   "outputs": [],
   "source": [
    "import pandas as pd\n",
    "import joblib\n",
    "from joblib import dump\n",
    "import dill\n",
    "\n",
    "# Data Cleaning and preprocessing\n",
    "import numpy as np\n",
    "import os\n",
    "import re\n",
    "from wordcloud import STOPWORDS\n",
    "from nltk.corpus import stopwords\n",
    "from nltk.stem import WordNetLemmatizer\n",
    "from nltk.tag import pos_tag\n",
    "from nltk.tokenize import word_tokenize\n",
    "from emot.emo_unicode import UNICODE_EMOJI, EMOTICONS_EMO\n",
    "from sklearn.feature_extraction.text import TfidfVectorizer\n",
    "from tqdm import tqdm\n",
    "\n",
    "\n",
    "# EDA\n",
    "import matplotlib.pyplot as plt\n",
    "import seaborn as sns\n",
    "#import empiricaldist as emd\n",
    "import plotly.express as px\n",
    "from wordcloud import WordCloud\n",
    "\n",
    "# Modelling\n",
    "from sklearn.model_selection import train_test_split, GridSearchCV\n",
    "from sklearn.model_selection import cross_val_score\n",
    "from sklearn.preprocessing import LabelEncoder\n",
    "from sklearn.preprocessing import MinMaxScaler\n",
    "from sklearn.model_selection import RandomizedSearchCV\n",
    "from sklearn.model_selection import GridSearchCV\n",
    "\n",
    "from sklearn.naive_bayes import MultinomialNB\n",
    "from sklearn.svm import SVC\n",
    "from sklearn.ensemble import RandomForestClassifier\n",
    "from sklearn.ensemble import AdaBoostClassifier\n",
    "from sklearn.ensemble import BaggingClassifier\n",
    "from sklearn.linear_model import LogisticRegression\n",
    "from sklearn.tree import DecisionTreeClassifier\n",
    "from sklearn.ensemble import GradientBoostingClassifier\n",
    "from xgboost import XGBClassifier\n",
    "from lightgbm import LGBMClassifier\n",
    "\n",
    "#Zero-shot model\n",
    "#from transformers import pipeline\n",
    "\n",
    "# Metrics\n",
    "from sklearn.metrics import accuracy_score\n",
    "from sklearn.metrics import classification_report, confusion_matrix\n",
    "from sklearn.metrics import f1_score, precision_score, make_scorer, recall_score"
   ]
  },
  {
   "cell_type": "code",
   "execution_count": 2,
   "metadata": {
    "colab": {
     "base_uri": "https://localhost:8080/"
    },
    "id": "wr970cCA_uX6",
    "outputId": "c2b367ec-cd3d-44d6-be3a-f6e37d4a45de",
    "scrolled": false
   },
   "outputs": [
    {
     "name": "stderr",
     "output_type": "stream",
     "text": [
      "/usr/local/lib/python3.11/dist-packages/huggingface_hub/utils/_auth.py:94: UserWarning: \n",
      "The secret `HF_TOKEN` does not exist in your Colab secrets.\n",
      "To authenticate with the Hugging Face Hub, create a token in your settings tab (https://huggingface.co/settings/tokens), set it as secret in your Google Colab and restart your session.\n",
      "You will be able to reuse this secret in all of your notebooks.\n",
      "Please note that authentication is recommended but still optional to access public models or datasets.\n",
      "  warnings.warn(\n",
      "Some weights of the model checkpoint at FacebookAI/roberta-large-mnli were not used when initializing RobertaForSequenceClassification: ['roberta.pooler.dense.bias', 'roberta.pooler.dense.weight']\n",
      "- This IS expected if you are initializing RobertaForSequenceClassification from the checkpoint of a model trained on another task or with another architecture (e.g. initializing a BertForSequenceClassification model from a BertForPreTraining model).\n",
      "- This IS NOT expected if you are initializing RobertaForSequenceClassification from the checkpoint of a model that you expect to be exactly identical (initializing a BertForSequenceClassification model from a BertForSequenceClassification model).\n",
      "Device set to use cuda:0\n"
     ]
    }
   ],
   "source": [
    "# Loading a zero-shot classification pipeline\n",
    "classifier = pipeline(\"zero-shot-classification\", model=\"FacebookAI/roberta-large-mnli\",\n",
    "                      TORCH_USE_CUDA_DSA=1)\n",
    "#stockbert = pipeline(\"text-classification\", model=\"mrm8488/distilroberta-finetuned-financial-news-sentiment-analysis\")"
   ]
  },
  {
   "cell_type": "code",
   "execution_count": 3,
   "metadata": {
    "id": "M5jvHPEo_uX-"
   },
   "outputs": [],
   "source": [
    "def classify_stock(text):\n",
    "    # Define candidate labels\n",
    "    candidate_labels = [\"stock market\", \"other\"]\n",
    "\n",
    "    # Classify the text\n",
    "    result = classifier(text, candidate_labels=candidate_labels)\n",
    "\n",
    "    # Return 1 if \"stock market\" is the predicted label, else 0\n",
    "    return 1 if result[\"labels\"][0] == \"stock market\" else 0\n",
    "\n",
    "def classify_stock_(text):\n",
    "  # Example usage\n",
    "  result = stockbert(text)\n",
    "  result=result[0]\n",
    "  return 0 if result[\"label\"][0] ==\"neutral\" else 1"
   ]
  },
  {
   "cell_type": "code",
   "execution_count": 4,
   "metadata": {
    "colab": {
     "base_uri": "https://localhost:8080/"
    },
    "id": "5fw6Pjp8Ao6o",
    "outputId": "10b22100-a41b-40ff-e983-c5c88d7e4b92"
   },
   "outputs": [
    {
     "name": "stdout",
     "output_type": "stream",
     "text": [
      "/content/drive/MyDrive/Stock_Data\n"
     ]
    }
   ],
   "source": [
    "%cd drive/MyDrive/Stock_Data"
   ]
  },
  {
   "cell_type": "code",
   "execution_count": 5,
   "metadata": {
    "id": "F9GUsiFZ_uX_"
   },
   "outputs": [],
   "source": [
    "# Reading all files into single DF\n",
    "path='./'\n",
    "all_files=os.listdir(path)"
   ]
  },
  {
   "cell_type": "code",
   "execution_count": 6,
   "metadata": {
    "id": "eTiWRZgi_uYB"
   },
   "outputs": [],
   "source": [
    "stock_news=pd.read_csv(path+all_files[0])\n",
    "stock_news.drop('Unnamed: 0', axis=1, inplace=True)\n",
    "\n",
    "for file in all_files[1:]:\n",
    "    new_df=pd.read_csv(path+file)\n",
    "    new_df.drop('Unnamed: 0', axis=1, inplace=True)\n",
    "    stock_news=pd.concat([stock_news, new_df], axis=0)"
   ]
  },
  {
   "cell_type": "code",
   "execution_count": 7,
   "metadata": {
    "colab": {
     "base_uri": "https://localhost:8080/"
    },
    "id": "r6vClVva_uYD",
    "outputId": "5dfdc232-ef2a-4016-efc7-f931e6d78987"
   },
   "outputs": [
    {
     "data": {
      "text/plain": [
       "(3051, 2)"
      ]
     },
     "execution_count": 7,
     "metadata": {},
     "output_type": "execute_result"
    }
   ],
   "source": [
    "stock_news.shape"
   ]
  },
  {
   "cell_type": "code",
   "execution_count": 8,
   "metadata": {
    "colab": {
     "base_uri": "https://localhost:8080/",
     "height": 147
    },
    "id": "G6I6YzogBcip",
    "outputId": "fe5bb40d-3eeb-4b19-f568-eebed20ad2d6"
   },
   "outputs": [
    {
     "data": {
      "text/html": [
       "<div>\n",
       "<style scoped>\n",
       "    .dataframe tbody tr th:only-of-type {\n",
       "        vertical-align: middle;\n",
       "    }\n",
       "\n",
       "    .dataframe tbody tr th {\n",
       "        vertical-align: top;\n",
       "    }\n",
       "\n",
       "    .dataframe thead th {\n",
       "        text-align: right;\n",
       "    }\n",
       "</style>\n",
       "<table border=\"1\" class=\"dataframe\">\n",
       "  <thead>\n",
       "    <tr style=\"text-align: right;\">\n",
       "      <th></th>\n",
       "      <th>0</th>\n",
       "    </tr>\n",
       "  </thead>\n",
       "  <tbody>\n",
       "    <tr>\n",
       "      <th>date</th>\n",
       "      <td>0</td>\n",
       "    </tr>\n",
       "    <tr>\n",
       "      <th>content</th>\n",
       "      <td>295</td>\n",
       "    </tr>\n",
       "  </tbody>\n",
       "</table>\n",
       "</div><br><label><b>dtype:</b> int64</label>"
      ],
      "text/plain": [
       "date         0\n",
       "content    295\n",
       "dtype: int64"
      ]
     },
     "execution_count": 8,
     "metadata": {},
     "output_type": "execute_result"
    }
   ],
   "source": [
    "\n",
    "# na check\n",
    "stock_news.isna().sum()"
   ]
  },
  {
   "cell_type": "code",
   "execution_count": 9,
   "metadata": {
    "id": "0wS0Fxq5Br37"
   },
   "outputs": [],
   "source": [
    "stock_news.dropna(inplace=True)"
   ]
  },
  {
   "cell_type": "code",
   "execution_count": 10,
   "metadata": {
    "colab": {
     "base_uri": "https://localhost:8080/"
    },
    "id": "KdrNgtIV_uYF",
    "outputId": "412e4edb-610c-4c1b-9943-db4ba67f76c6"
   },
   "outputs": [
    {
     "name": "stderr",
     "output_type": "stream",
     "text": [
      "You seem to be using the pipelines sequentially on GPU. In order to maximize efficiency please use a dataset\n"
     ]
    }
   ],
   "source": [
    "# Applying model to contents to get the label - it took 17m to predict on 2000+ content\n",
    "stock_news[\"label\"] = stock_news[\"content\"].apply(classify_stock)"
   ]
  },
  {
   "cell_type": "code",
   "execution_count": 12,
   "metadata": {
    "colab": {
     "base_uri": "https://localhost:8080/"
    },
    "id": "mGkoRxAbEPEh",
    "outputId": "e0a6a443-3f13-4aa1-e0d0-611b3f10cdd8"
   },
   "outputs": [
    {
     "data": {
      "text/plain": [
       "526"
      ]
     },
     "execution_count": 12,
     "metadata": {},
     "output_type": "execute_result"
    }
   ],
   "source": [
    "stock_news.label.sum()"
   ]
  },
  {
   "cell_type": "code",
   "execution_count": 25,
   "metadata": {
    "colab": {
     "base_uri": "https://localhost:8080/",
     "height": 174
    },
    "id": "VTaVui4HKJcQ",
    "outputId": "7d2b2c86-1bd8-4729-d466-1b5828318804"
   },
   "outputs": [
    {
     "data": {
      "application/vnd.google.colaboratory.intrinsic+json": {
       "type": "string"
      },
      "text/plain": [
       "\"The EU is under pressure from car makers to weaken its CO2 rules, which outlaw sales of new internal ... [+] cumbustion engine vehicles by 2035\\nEurope’s automakers face existential threats on many fronts in 2025, but it’s not all bad news and beleaguered investors are offered some hope.\\nThe headlines are not reassuring and the key crisis words are CO2, China, tariffs, restructuring, and Germany. Despite overwhelming negativity, investment bank Morgan Stanley and investment researcher Evercore ISI find positives for investors.\\nThe most pressing problem concerns European Union rules on carbon dioxide emissions, with bottom-line-destroying fines for the bigger failures. These CO2 rules, to force reluctant Europeans to buy electric vehicles and gradually ban sales of new internal combustion engine vehicles until all new ones disappear by 2035, will have other perverse effects. Manufacturers and politicians are mounting a dogged campaign to have the rules diluted.\\nEU Commission President Ursula von der Leyen’s Strategic Dialogue on the Future of the European Car Industry will be launched this month and watering down the CO2 rules will be top of the agenda.\\nManufacturers lagging in the quest to fulfill the EU mandate are being forced to raise the prices of their most profitable ICE machines, not to make more money but to stifle sales and subsidize EVs. That is bad news for profits.\\nLuca de Meo, the CEO of Renault and president of the European Automobile Manufacturers Association, says the European auto industry faces fines of up to €15 billion ($15.5 billion) for failing to meet the EU's 2025 CO2 emissions targets.\\nThere’s the threat from China, still potent even after swingeing tariff increases. And speaking of tariffs, President Trump’s incoming administration has spread alarm and despondency with its scattergun references to possible tariff barriers. That’s disturbing in Europe because for years it has enjoyed an unfair advantage as its products carry a 2.5% tariff in the U.S. while it’s 10% going the other way.\\nThe threat from China, with its 30% efficiency advantage, is forcing so-called legacy manufacturers to think the unthinkable and close excess production. Volkswagen threatened to close 3 factories, although it backed off after talks with unions. Stellantis and its 14 brands is also said to have too many factories and ousted CEO Carlos Tavares’s replacement will have some tough decisions to make.\\nBusiness men's command tower crane lifts Chinese containers and EU containers\\nAccording to French automotive consultancy Inovev, average European auto sales of sedans and SUVs has slumped from an average 18 million a year between 2017 and 2019 to between 13 and 15 million between 2020 and 2024.\\n“It is clear that the European automotive industry is increasingly suffering from overcapacity. Even though several major European factories have closed over the last 10 years, production overcapacity remains significant in Europe,” Inovev said in a report.\\nAnd Germany, Europe’s biggest auto market, is in dire straits.\\nProfessor Ferdinand Dudenhoeffer, director of Germany’s Center for Automotive Research, said the German auto industry’s order backlog is at a 10-year low. Sales in 2025 won’t be much higher than 2024‘s 2.8 million. This compares with a peak of 3.6 million sedans and SUVs in pre-covid 2019.\\nProfessor Stefan Bratzel, director of Germany’s Center of Automotive Management, said government action is required to restore German industry’s competitiveness. The early general election next month means action will be delayed as the various winners negotiate over the government’s construction.\\n“That (the election) will lose another half a year in bringing structural reform into place in Germany. That means a great burden for the auto industry in Germany,” Bratzel said in an interview.\\nGlobalData summed up the conventional wisdom on 2025’s prospects.\\n“We believe that growth should uptick in 2025 with the introduction of new models and more monetary easing. Despite this, ongoing geopolitical tensions, as well as the collapse of the German and French governments, bring great uncertainty that is expected to drag on sales,” GlobalData said in a report.\\nGlobaData forecast Western European sales will rise 2.3% to 11.71 million compared with last year’s 0.9% fall.\\nInvestment bank UBS reiterated its long-held view that 2025 will represent a perfect storm for automakers, with prices under pressure, and tighter CO2 rules (despite the possibility of some long-term mitigation). There are the tariff risks and weak demand, which will drive down profits in the midst of factory closures.\\nFuel gauge pointing at empty reading. I\\nInvestment researcher Evercore ISI said the negative themes which started in 2024 will persist in 2025, but there are some positives on the horizon.\\n“Do we think this malaise will last the whole year? That’s the bright spot in our 2025 outlook, we don’t necessarily think so,” Evercore ISI said in a research note. It reckoned by mid-year sales might start to rise and 2026 production schedules might look promising.\\n“Has any of the secular headwinds gone away? Mix, EV, Lacklustre legacy tech. No. But rising volumes are always the cue for any Auto ailment,” it said.\\nMorgan Stanley changed its outlook for Europe’s auto manufacturers in 2025 from “Cautious” to “In-Line.\\n“We see a more balanced risk/reward with still some margin downside but also opportunities that the market may be missing,” Morgan Stanley said in a report.\\nMorgan Stanley said plus points include recovering affordability of SUVs and sedans, with perhaps some easing of EU regulations.\\n“………pent-up demand is building and affordability keeps improving from historical lows, reaching healthy levels by mid-2025, driven by falling prices, lower interest rates, subsidized funding, improving disposable income and potentially subsidies,” the report said.\\nNews about possible tariffs should give the issue more visibility. Chinese automakers might set up alliances with Europeans to speed up penetration of EVs, but also allow Europeans to benefit from their technology lead, according to Morgan Stanley.\\n\\nOne Community. Many Voices.\\xa0Create a free account to share your thoughts.\\xa0\\nOur community is about connecting people through open and thoughtful conversations. We want our readers to share their views and exchange ideas and facts in a safe space.\\nIn order to do so, please follow the posting rules in our site's\\xa0Terms of Service.\\xa0 We've summarized some of those key rules below. Simply put, keep it civil.\\nYour post will be rejected if we notice that it seems to contain:\\nUser accounts will be blocked if we notice or believe that users are engaged in:\\nSo, how can you be a power user?\\nThanks for reading our community guidelines.  Please read the full list of posting rules found in our site's\\xa0Terms of Service.\""
      ]
     },
     "execution_count": 25,
     "metadata": {},
     "output_type": "execute_result"
    }
   ],
   "source": [
    "stock_news[stock_news.label==0]['content'].values[30]"
   ]
  },
  {
   "cell_type": "code",
   "execution_count": 26,
   "metadata": {
    "id": "ourC9YQJIDwh"
   },
   "outputs": [],
   "source": [
    "stock_news.to_csv('all_stock_data_labelled_v2.csv', index= False)"
   ]
  },
  {
   "cell_type": "code",
   "execution_count": 2,
   "metadata": {
    "colab": {
     "base_uri": "https://localhost:8080/"
    },
    "id": "KMmq001O1fVm",
    "outputId": "50693181-d0ec-4e9a-deb4-ab77b71d9de2"
   },
   "outputs": [
    {
     "name": "stdout",
     "output_type": "stream",
     "text": [
      "https://www.youtube.com/watch?v=xI6vUbKJ24g\n",
      "www.helpme.in\n"
     ]
    }
   ],
   "source": [
    "# testing regex to remove links\n",
    "s = '''That's fair. I think I misinterpreted you originally, but now that makes a lot of sense. Thank you for the explanation!|||Maybe in quality of thought and opinions in some cases, but definitely not when it comes to being an independent adult who functions smoothly and has a stable career and remembers to do things like...|||Out-patient is where you go to a therapuetic program during the day while still living at home, while in-patient is either a) mental hospitals or b) rehab or c) residential treatment centers, which...|||Professionally diagnosed with Major Depressive Disorder, Generalized Anxiety Disorder, PTSD and Body Dysmorphic Disorder.  I'm a trainwreck, I know.|||Sorry to revive a slightly old post, but typing this series has been nagging the hell out of me. Initially I assumed Saikawa was an INTP and Magata an INTJ, but after completing the series I actually...|||I tested as an INFJ for... some reason. I actually bounced between nearly every feeler type for years before I studied the functions and realized that me being overemotional doesn't mean I'm a...|||I think a lot of people mistype in general, but I do agree that INTJ does seem like a desirable type for your average socially awkward nerd to want to be.  At the same time, however, I feel like...|||No, I don't normally get bothered by feelers. But I also seem to be lot more in touch and skillful with my inferior Fe than most IxTPs (just going by the internet because I know like, one IxTP in...|||Gotta learn how to camouflage as a Ne dom in social situations. Really the only time you can use Ti or Si socially is one on one with people you are very close with--and as an INTP who is honestly...|||I'm a respectful artist, apparently.  432898  dat confidence score tho.   Don't know how accurate this thing is over all. I feel like my trust would be lower and my confidence slightly higher,...|||I also would third that Amy seems like more of an ISFP to me, but it's been a while since I've seen the show so I could be totally wrong (and I've only seen season 1 and like the first few episodes...|||I hate smelling bad. I never go a day without a shower and always carry deodorant and perfume in my purse just in case. You guys are gross. I always thought this stereotype was false but guess not!|||Don't have too many thoughts other than terrorism is always awful, but Isis and other Islam practicing terrorist groups actually represent a tiny percent of Muslims as a whole (as Islam is honestly a...|||INTP female.  54.167 out of 100 masculine points, 55.833 out of 100 feminine points, and 67.5 out of 100 androgynous (neutral) points.|||The thing about astrology most people don't realize is that it's actually incredibly complicated and unique to every person. You aren't just a Capricorn; that's just your sun sign. For everyone's...|||INFP   https://www.youtube.com/watch?v=xI6vUbKJ24g|||It's not impossible at all! In fact, it's completely logical when you compare auxiliary Ti to a 5's fixation on gathering and developing knowledge. They're quite similar concepts.  Also, IMHO,...|||What do you guys think about Minnesota? I grew up there and I know that at least from my impression, Canada and Minnesota always seemed strikingly similar in terms of stereotypes and culture. However...|||Ne One Like this? Don't know why I added the underscore, seems a little silly in hindsight. Thank you for your help!|||I do as well! But if I'm only relying on my (not too great) Fe for too long I can eventually come off really uncomfortable and stilted and kind of like a pushover. Once I can get comfortable enough...|||But see, this is actually a huge flaw in our education system and in our socially enforced measurement of intelligence, because intelligence is inherently unmeasurable and impossible to score or...|||@Ne_One I agree with you, I think 'feel' isn't uncommonly used not in the literal sense, but as you mentioned, as a synonym for describing the experience of something or the sensation of something. I...|||INFJ. Vampires feel so Ni to me.|||From your description I'd definitely say you seem to use Fi over Fe. You mentioned that your external behavior seems more Fe but I really wouldn't stress on that too much. Fi is all about personal...|||I'm not sure how you could come to that conclusion if you were doing cognitive function studies as INTPs and INTJs have very different function stacks? You're looking at Ni-Te vs. Ti-Ne, which are...|||Alright! Literally just joined this forum butx85 why not, right?  Having Ti isnx92t really a feeling, Ix92d say. I thought it was a very very normal way of experiencing things until\n",
    "I eventually came to...@jjdj3$$!!w'w www.helpme.in'''\n",
    "patt = re.compile(r'(https?:/?/?|ftp:/?/?|www|[yY]outube)+?[\\w\\-\\?\\=\\%.]+?.[\\w\\!\\£\\$\\%\\^\\&\\*\\(\\)\\_\\+\\-\\=\\{\\\\}\\~\\[\\]\\#\\:\\@\\;\\'\\<\\>\\?\\,\\.\\/\\\\]+')\n",
    "at =  patt.finditer(s)\n",
    "\n",
    "for a in at:\n",
    "    print(a.group(0))"
   ]
  },
  {
   "cell_type": "code",
   "execution_count": 3,
   "metadata": {},
   "outputs": [],
   "source": [
    "all_stock_labeled=pd.read_csv('all_stock_data_labelled_v2.csv')"
   ]
  },
  {
   "cell_type": "code",
   "execution_count": 4,
   "metadata": {},
   "outputs": [
    {
     "data": {
      "text/html": [
       "<div>\n",
       "<style scoped>\n",
       "    .dataframe tbody tr th:only-of-type {\n",
       "        vertical-align: middle;\n",
       "    }\n",
       "\n",
       "    .dataframe tbody tr th {\n",
       "        vertical-align: top;\n",
       "    }\n",
       "\n",
       "    .dataframe thead th {\n",
       "        text-align: right;\n",
       "    }\n",
       "</style>\n",
       "<table border=\"1\" class=\"dataframe\">\n",
       "  <thead>\n",
       "    <tr style=\"text-align: right;\">\n",
       "      <th></th>\n",
       "      <th>date</th>\n",
       "      <th>content</th>\n",
       "      <th>label</th>\n",
       "    </tr>\n",
       "  </thead>\n",
       "  <tbody>\n",
       "    <tr>\n",
       "      <th>0</th>\n",
       "      <td>2025-01-05</td>\n",
       "      <td>Business Insider Edition \\nGetting a job was t...</td>\n",
       "      <td>0</td>\n",
       "    </tr>\n",
       "    <tr>\n",
       "      <th>1</th>\n",
       "      <td>2025-01-05</td>\n",
       "      <td>Login\\nOur new print issue is a definitive tak...</td>\n",
       "      <td>0</td>\n",
       "    </tr>\n",
       "    <tr>\n",
       "      <th>2</th>\n",
       "      <td>2025-01-05</td>\n",
       "      <td>FABRICE COFFRINI/Getty Images\\nA wave of new t...</td>\n",
       "      <td>0</td>\n",
       "    </tr>\n",
       "    <tr>\n",
       "      <th>3</th>\n",
       "      <td>2025-01-05</td>\n",
       "      <td>Business Insider Edition \\nEven before the Sur...</td>\n",
       "      <td>0</td>\n",
       "    </tr>\n",
       "    <tr>\n",
       "      <th>4</th>\n",
       "      <td>2025-01-05</td>\n",
       "      <td>Downside stock moves were below normal for 202...</td>\n",
       "      <td>0</td>\n",
       "    </tr>\n",
       "    <tr>\n",
       "      <th>...</th>\n",
       "      <td>...</td>\n",
       "      <td>...</td>\n",
       "      <td>...</td>\n",
       "    </tr>\n",
       "    <tr>\n",
       "      <th>2751</th>\n",
       "      <td>2025-01-30</td>\n",
       "      <td>The world’s most valuable company reported its...</td>\n",
       "      <td>1</td>\n",
       "    </tr>\n",
       "    <tr>\n",
       "      <th>2752</th>\n",
       "      <td>2025-01-30</td>\n",
       "      <td>Y Combinator-backed startup Martin AI secures ...</td>\n",
       "      <td>0</td>\n",
       "    </tr>\n",
       "    <tr>\n",
       "      <th>2753</th>\n",
       "      <td>2025-01-30</td>\n",
       "      <td>\\nGameSpot may receive revenue from affiliate ...</td>\n",
       "      <td>0</td>\n",
       "    </tr>\n",
       "    <tr>\n",
       "      <th>2754</th>\n",
       "      <td>2025-01-30</td>\n",
       "      <td>If someone told you that stock market investor...</td>\n",
       "      <td>0</td>\n",
       "    </tr>\n",
       "    <tr>\n",
       "      <th>2755</th>\n",
       "      <td>2025-01-30</td>\n",
       "      <td>Business Insider Edition \\nThis week's news ab...</td>\n",
       "      <td>0</td>\n",
       "    </tr>\n",
       "  </tbody>\n",
       "</table>\n",
       "<p>2756 rows × 3 columns</p>\n",
       "</div>"
      ],
      "text/plain": [
       "            date                                            content  label\n",
       "0     2025-01-05  Business Insider Edition \\nGetting a job was t...      0\n",
       "1     2025-01-05  Login\\nOur new print issue is a definitive tak...      0\n",
       "2     2025-01-05  FABRICE COFFRINI/Getty Images\\nA wave of new t...      0\n",
       "3     2025-01-05  Business Insider Edition \\nEven before the Sur...      0\n",
       "4     2025-01-05  Downside stock moves were below normal for 202...      0\n",
       "...          ...                                                ...    ...\n",
       "2751  2025-01-30  The world’s most valuable company reported its...      1\n",
       "2752  2025-01-30  Y Combinator-backed startup Martin AI secures ...      0\n",
       "2753  2025-01-30  \\nGameSpot may receive revenue from affiliate ...      0\n",
       "2754  2025-01-30  If someone told you that stock market investor...      0\n",
       "2755  2025-01-30  Business Insider Edition \\nThis week's news ab...      0\n",
       "\n",
       "[2756 rows x 3 columns]"
      ]
     },
     "execution_count": 4,
     "metadata": {},
     "output_type": "execute_result"
    }
   ],
   "source": [
    "all_stock_labeled"
   ]
  },
  {
   "attachments": {},
   "cell_type": "markdown",
   "metadata": {
    "id": "BIDNALnj1fVp"
   },
   "source": [
    "#### OTHER TEXT DATA PREPROCESSING, REPLACING EMOJIS AND EMOTICONS WITH THEIR MEANINGS."
   ]
  },
  {
   "cell_type": "code",
   "execution_count": 5,
   "metadata": {
    "id": "MDsuJTe51fV5"
   },
   "outputs": [],
   "source": [
    "# The code below basically adds escape characters  \\\\ to the emoticon characters since regex is used to\n",
    "# remove them.\n",
    "# for example, we have :-) but ) is a group character in regex so, we had to escape it\n",
    "new_string = ''\n",
    "new_emoticons = []\n",
    "meanings = []\n",
    "to_escape = [']', '[', '+', '*', '(', ')', '?', '{', '}', '|', '.']\n",
    "for a, mean in EMOTICONS_EMO.items():\n",
    "    meanings.append(mean)\n",
    "    #print(a)\n",
    "    for each in a:\n",
    "        if each in to_escape:\n",
    "            new_string +=  '\\\\'+each\n",
    "        else:\n",
    "            new_string+=each\n",
    "    new_emoticons.append(new_string)\n",
    "    new_string = ''\n",
    "\n",
    "# the problem here was that (\\\\\\\\) doesn't escape the second parenthesis, so i had to change it to \\\\)\n",
    "for ind, new in enumerate(new_emoticons):\n",
    "    new_emoticons[ind] = new.replace('(\\\\\\\\)', '(\\\\)')"
   ]
  },
  {
   "attachments": {},
   "cell_type": "markdown",
   "metadata": {
    "id": "wtl4OAiy1fV6"
   },
   "source": [
    "#### DATA CLEANING FUNCTIONS"
   ]
  },
  {
   "cell_type": "code",
   "execution_count": 6,
   "metadata": {
    "id": "472Oak_U1fV6"
   },
   "outputs": [],
   "source": [
    "def emoji_to_text(text):\n",
    "    '''This function replaces emojis with their meanings'''\n",
    "    for emoji, meaning in UNICODE_EMOJI.items():\n",
    "        text = text.replace(emoji, meaning)\n",
    "    return text\n",
    "\n",
    "def convert_emoticons(text):\n",
    "    ''' This function replaces emoticons which are basically symbols to represent expressions with their meaning\n",
    "    some are in the contents so it makes sense to remove them.'''\n",
    "    for emoticon, meaning in zip(new_emoticons, meanings):\n",
    "      #basically emoticon becomes a pattern here that's why it's important to escape those characters\n",
    "        text = re.sub(emoticon, meaning, text)\n",
    "    return text\n",
    "\n",
    "def remlinks_symbs(df):\n",
    "    '''This function creates a new column with the links, mentions, symbols, numbers of more than 1character\n",
    "    removed and emojis, emoticons and replaced with their meaning in the data set'''\n",
    "    df['content'] = df.content\n",
    "\n",
    "    # replacing link with space\n",
    "    # we noticed some links don't have :// it's just https:youtu... and some start from www.\n",
    "    # example www.youtube.com/watch?v=2o5FHtUaKNQ so we had to tweak the regex multiple times to meet the\n",
    "    # needs.\n",
    "    df.content.replace(r'(https?:/?/?|ftp:/?/?|www|[yY]outube)+?[\\w\\-\\?\\=\\%.]+?.[\\w\\!\\£\\$\\%\\^\\&\\*\\(\\)\\_\\+\\-\\=\\{\\\\}\\~\\[\\]\\#\\:\\@\\;\\'\\<\\>\\?\\,\\.\\/\\\\]+', ' ', regex= True, inplace= True)\n",
    "\n",
    "    # replacing mentions with space\n",
    "    df.content.replace(r'@[\\w\\!\\£\\$\\%\\^\\&\\*\\(\\)\\_\\+\\-\\=\\{\\\\}\\~\\[\\]\\#\\:\\@\\;\\'\\<\\>\\?\\,\\.\\/\\\\]+', ' ',\n",
    "                    regex= True, inplace= True)\n",
    "\n",
    "    #reducing all to lowercase\n",
    "    df['content'] = df['content'].str.lower()\n",
    "\n",
    "    # Replacing emoticons with their meaning\n",
    "    df.content = df.content.apply(convert_emoticons)\n",
    "\n",
    "    #replacing emojis with their meanings\n",
    "    df.content = df.content.apply(emoji_to_text)\n",
    "\n",
    "    # replacing one or more symbols except ', $, % and _ with space\n",
    "    df.content.replace(r'[^\\w$%_\\']+', ' ', regex = True, inplace = True)\n",
    "\n",
    "    #removes numbers longer than two since 4w3 has a meaning removing numbers will leave just w\n",
    "    #df.content.replace(r'\\d\\d+', '', regex = True, inplace = True)\n",
    "\n",
    "    #replacing underscores with nothing\n",
    "    #df.content.replace(r'_', '', regex = True, inplace = True)\n",
    "    return df\n",
    "\n",
    "# removing apostrophe from beginning and end of contents and leaving them in some words so as to remove\n",
    "# stopwords.\n",
    "def rem_pos(content):\n",
    "    if content[0] == '\\'' and content[-1]=='\\'':\n",
    "        content = content[1:-1]\n",
    "    elif content[0] == '\\'':\n",
    "        content = content[1:]\n",
    "    elif content[-1]=='\\'':\n",
    "        content = content[:-1]\n",
    "    else:\n",
    "        pass\n",
    "    return content\n"
   ]
  },
  {
   "cell_type": "code",
   "execution_count": 6,
   "metadata": {
    "id": "ujaVlg6R_uYN",
    "outputId": "189ccbc4-ff02-4c57-c3d2-11c51f8a92cd"
   },
   "outputs": [
    {
     "name": "stdout",
     "output_type": "stream",
     "text": [
      "CPU times: total: 8.92 s\n",
      "Wall time: 9.48 s\n"
     ]
    },
    {
     "data": {
      "text/html": [
       "<div>\n",
       "<style scoped>\n",
       "    .dataframe tbody tr th:only-of-type {\n",
       "        vertical-align: middle;\n",
       "    }\n",
       "\n",
       "    .dataframe tbody tr th {\n",
       "        vertical-align: top;\n",
       "    }\n",
       "\n",
       "    .dataframe thead th {\n",
       "        text-align: right;\n",
       "    }\n",
       "</style>\n",
       "<table border=\"1\" class=\"dataframe\">\n",
       "  <thead>\n",
       "    <tr style=\"text-align: right;\">\n",
       "      <th></th>\n",
       "      <th>date</th>\n",
       "      <th>content</th>\n",
       "      <th>label</th>\n",
       "    </tr>\n",
       "  </thead>\n",
       "  <tbody>\n",
       "    <tr>\n",
       "      <th>0</th>\n",
       "      <td>2025-01-05</td>\n",
       "      <td>business insider edition getting a job was tou...</td>\n",
       "      <td>0</td>\n",
       "    </tr>\n",
       "    <tr>\n",
       "      <th>1</th>\n",
       "      <td>2025-01-05</td>\n",
       "      <td>login our new print issue is a definitive take...</td>\n",
       "      <td>0</td>\n",
       "    </tr>\n",
       "    <tr>\n",
       "      <th>2</th>\n",
       "      <td>2025-01-05</td>\n",
       "      <td>fabrice coffrini getty images a wave of new ta...</td>\n",
       "      <td>0</td>\n",
       "    </tr>\n",
       "    <tr>\n",
       "      <th>3</th>\n",
       "      <td>2025-01-05</td>\n",
       "      <td>business insider edition even before the surge...</td>\n",
       "      <td>0</td>\n",
       "    </tr>\n",
       "    <tr>\n",
       "      <th>4</th>\n",
       "      <td>2025-01-05</td>\n",
       "      <td>downside stock moves were below normal for 202...</td>\n",
       "      <td>0</td>\n",
       "    </tr>\n",
       "    <tr>\n",
       "      <th>...</th>\n",
       "      <td>...</td>\n",
       "      <td>...</td>\n",
       "      <td>...</td>\n",
       "    </tr>\n",
       "    <tr>\n",
       "      <th>2751</th>\n",
       "      <td>2025-01-30</td>\n",
       "      <td>the world s most valuable company reported its...</td>\n",
       "      <td>1</td>\n",
       "    </tr>\n",
       "    <tr>\n",
       "      <th>2752</th>\n",
       "      <td>2025-01-30</td>\n",
       "      <td>y combinator backed startup martin ai secures ...</td>\n",
       "      <td>0</td>\n",
       "    </tr>\n",
       "    <tr>\n",
       "      <th>2753</th>\n",
       "      <td>2025-01-30</td>\n",
       "      <td>gamespot may receive revenue from affiliate a...</td>\n",
       "      <td>0</td>\n",
       "    </tr>\n",
       "    <tr>\n",
       "      <th>2754</th>\n",
       "      <td>2025-01-30</td>\n",
       "      <td>if someone told you that stock market investor...</td>\n",
       "      <td>0</td>\n",
       "    </tr>\n",
       "    <tr>\n",
       "      <th>2755</th>\n",
       "      <td>2025-01-30</td>\n",
       "      <td>business insider edition this week's news abou...</td>\n",
       "      <td>0</td>\n",
       "    </tr>\n",
       "  </tbody>\n",
       "</table>\n",
       "<p>2756 rows × 3 columns</p>\n",
       "</div>"
      ],
      "text/plain": [
       "            date                                            content  label\n",
       "0     2025-01-05  business insider edition getting a job was tou...      0\n",
       "1     2025-01-05  login our new print issue is a definitive take...      0\n",
       "2     2025-01-05  fabrice coffrini getty images a wave of new ta...      0\n",
       "3     2025-01-05  business insider edition even before the surge...      0\n",
       "4     2025-01-05  downside stock moves were below normal for 202...      0\n",
       "...          ...                                                ...    ...\n",
       "2751  2025-01-30  the world s most valuable company reported its...      1\n",
       "2752  2025-01-30  y combinator backed startup martin ai secures ...      0\n",
       "2753  2025-01-30   gamespot may receive revenue from affiliate a...      0\n",
       "2754  2025-01-30  if someone told you that stock market investor...      0\n",
       "2755  2025-01-30  business insider edition this week's news abou...      0\n",
       "\n",
       "[2756 rows x 3 columns]"
      ]
     },
     "execution_count": 6,
     "metadata": {},
     "output_type": "execute_result"
    }
   ],
   "source": [
    "%%time\n",
    "remlinks_symbs(all_stock_labeled)"
   ]
  },
  {
   "cell_type": "code",
   "execution_count": 7,
   "metadata": {},
   "outputs": [
    {
     "data": {
      "text/plain": [
       "'I $am, %%a junior'"
      ]
     },
     "execution_count": 7,
     "metadata": {},
     "output_type": "execute_result"
    }
   ],
   "source": [
    "#testing\n",
    "re.sub(r'[^\\w,$%_]+', ' ', 'I $am, ><??>>#%%a>> junior')"
   ]
  },
  {
   "cell_type": "code",
   "execution_count": 7,
   "metadata": {
    "id": "qV2UFPRk1fV_",
    "outputId": "a74d70aa-b139-4b20-899f-e2b9f803b83d"
   },
   "outputs": [],
   "source": [
    "stopwords_better = list(STOPWORDS)\n",
    "for remove in ['\\'', '^', '^^', 'doe', 'ha', 'wa', '\\'i', '\\'the', '\\'s', '\\'cause', '\\'em']:\n",
    "    stopwords_better.append(remove)"
   ]
  },
  {
   "cell_type": "code",
   "execution_count": 8,
   "metadata": {
    "id": "03_53FcwDGku"
   },
   "outputs": [],
   "source": [
    "#import nltk\n",
    "#nltk.download('stopwords')\n",
    "#nltk.download('averaged_perceptron_tagger')\n",
    "#nltk.download('omw-1.4')"
   ]
  },
  {
   "cell_type": "code",
   "execution_count": 9,
   "metadata": {
    "id": "KXevxBDb1fV_"
   },
   "outputs": [],
   "source": [
    "for a in stopwords.words('english'):\n",
    "    stopwords_better.append(a)"
   ]
  },
  {
   "cell_type": "code",
   "execution_count": 10,
   "metadata": {
    "id": "Dp_9a2p51fWA",
    "scrolled": false
   },
   "outputs": [],
   "source": [
    "# Using stopwords from two different modules, we created a better stopwords list\n",
    "stopwords_better = list(set(stopwords_better))"
   ]
  },
  {
   "cell_type": "code",
   "execution_count": 12,
   "metadata": {
    "id": "1HJz1d7-1fWB"
   },
   "outputs": [],
   "source": [
    "def lemmatizee(the_list):\n",
    "    # Lemmatizer function using the returning default part of speech(noun) for each word passed through it\n",
    "    lemmatizer = WordNetLemmatizer()\n",
    "    return [lemmatizer.lemmatize(a) for a in the_list.split()]\n",
    "\n",
    "def lemmatized(sentence):\n",
    "     # Lemmatizer function using parts of speech tagging.\n",
    "    lemmatizer = WordNetLemmatizer()\n",
    "    wnl = WordNetLemmatizer()\n",
    "    lemmatized = []\n",
    "    for word, tag in pos_tag(sentence.split()):\n",
    "        if tag.startswith(\"NN\"):\n",
    "            lemmatized.append(wnl.lemmatize(word, pos='n'))\n",
    "        elif tag.startswith('VB'):\n",
    "            lemmatized.append(wnl.lemmatize(word, pos='v'))\n",
    "        elif tag.startswith('JJ'):\n",
    "            lemmatized.append(wnl.lemmatize(word, pos='a'))\n",
    "        else:\n",
    "            lemmatized.append(word)\n",
    "    return lemmatized\n",
    "\n",
    "def BOW(train_data, test_data, ngrams= 1, max_feat= 300, split_data = True):\n",
    "    '''This does all cleaning and returns the bag of documents vector for both train and test data\n",
    "    note that you have to manually supply train and test data'''\n",
    "\n",
    "    # for train_data\n",
    "    # here we apply the clean function above\n",
    "    train_data = remlinks_symbs(train_data)\n",
    "\n",
    "    #for test_data\n",
    "    test_data = remlinks_symbs(test_data)\n",
    "\n",
    "    if ngrams == 1:\n",
    "        #train_data.content.replace(r'[^\\w^\\']+', ' ', regex = True, inplace = True)\n",
    "        #train_data.content = train_data.content.apply(rem_pos)\n",
    "\n",
    "        #test_data.content.replace(r'[^\\w^\\']+', ' ', regex = True, inplace = True)\n",
    "        #test_data.content = test_data.content.apply(rem_pos)\n",
    "\n",
    "        # tokenizing words and making the vectors\n",
    "        vectorizer=TfidfVectorizer(max_features= max_feat, stop_words= stopwords_better, tokenizer=\n",
    "                                   lemmatized, token_pattern= '(?u)\\\\b\\\\w+\\'\\w+\\\\b')\n",
    "        # the reason it tokenizes \"'cause\" is because ' is recognized as a boundary\n",
    "\n",
    "        char_array_tr = vectorizer.fit_transform(train_data.content).toarray()\n",
    "        \n",
    "        with open(\"models/tfidf_vectorizer_300.dill\", \"wb\") as f:\n",
    "            dill.dump(vectorizer, f)\n",
    "        #dump(vectorizer, f\"models/tfidf_vectorizer_{max_feat}.joblib\")\n",
    "        char_array_te = vectorizer.transform(test_data.content).toarray()\n",
    "\n",
    "        # Turning into dataframes\n",
    "        frequency_matrix_tr = pd.DataFrame(char_array_tr, columns= vectorizer.get_feature_names_out())\n",
    "        frequency_matrix_te = pd.DataFrame(char_array_te, columns= vectorizer.get_feature_names_out())\n",
    "    else:\n",
    "        pass\n",
    "    if split_data== True:\n",
    "        return (frequency_matrix_tr, frequency_matrix_te)\n",
    "    else:\n",
    "        return frequency_matrix_tr\n",
    "\n",
    "\n"
   ]
  },
  {
   "cell_type": "code",
   "execution_count": 13,
   "metadata": {
    "id": "Arl8vQaJ1fWx"
   },
   "outputs": [],
   "source": [
    "X_train, X_test, y_train, y_test = train_test_split(all_stock_labeled.drop(['label'], axis= 1), \n",
    "                                                    all_stock_labeled.label,\n",
    "                                                    test_size=0.3, random_state=42,\n",
    "                                                    stratify= all_stock_labeled.label)\n"
   ]
  },
  {
   "cell_type": "code",
   "execution_count": 14,
   "metadata": {
    "id": "3HcWMmu81fWy"
   },
   "outputs": [
    {
     "name": "stderr",
     "output_type": "stream",
     "text": [
      "C:\\Users\\User\\anaconda3\\Lib\\site-packages\\sklearn\\feature_extraction\\text.py:517: UserWarning: The parameter 'token_pattern' will not be used since 'tokenizer' is not None'\n",
      "  warnings.warn(\n"
     ]
    },
    {
     "name": "stdout",
     "output_type": "stream",
     "text": [
      "CPU times: total: 2min 38s\n",
      "Wall time: 2min 45s\n"
     ]
    }
   ],
   "source": [
    "%%time\n",
    "# Here we just call the bow function on xtrain and xtest and it does the cleaning and vectorizing.\n",
    "train_test = BOW(X_train, X_test, split_data= True)"
   ]
  },
  {
   "cell_type": "code",
   "execution_count": 15,
   "metadata": {
    "id": "eBxJ5V1C1fWz"
   },
   "outputs": [],
   "source": [
    "train_vector = train_test[0]"
   ]
  },
  {
   "cell_type": "code",
   "execution_count": 24,
   "metadata": {
    "id": "4VV7ptap1fW1"
   },
   "outputs": [],
   "source": [
    "test_vector = train_test[1]"
   ]
  },
  {
   "cell_type": "code",
   "execution_count": 25,
   "metadata": {
    "id": "nNMzVEEj1fW2"
   },
   "outputs": [
    {
     "data": {
      "text/html": [
       "<div>\n",
       "<style scoped>\n",
       "    .dataframe tbody tr th:only-of-type {\n",
       "        vertical-align: middle;\n",
       "    }\n",
       "\n",
       "    .dataframe tbody tr th {\n",
       "        vertical-align: top;\n",
       "    }\n",
       "\n",
       "    .dataframe thead th {\n",
       "        text-align: right;\n",
       "    }\n",
       "</style>\n",
       "<table border=\"1\" class=\"dataframe\">\n",
       "  <thead>\n",
       "    <tr style=\"text-align: right;\">\n",
       "      <th></th>\n",
       "      <th>0</th>\n",
       "      <th>000</th>\n",
       "      <th>1</th>\n",
       "      <th>10</th>\n",
       "      <th>2</th>\n",
       "      <th>2023</th>\n",
       "      <th>2024</th>\n",
       "      <th>2025</th>\n",
       "      <th>3</th>\n",
       "      <th>4</th>\n",
       "      <th>...</th>\n",
       "      <th>way</th>\n",
       "      <th>week</th>\n",
       "      <th>well</th>\n",
       "      <th>without</th>\n",
       "      <th>work</th>\n",
       "      <th>world</th>\n",
       "      <th>worth</th>\n",
       "      <th>write</th>\n",
       "      <th>year</th>\n",
       "      <th>yield</th>\n",
       "    </tr>\n",
       "  </thead>\n",
       "  <tbody>\n",
       "    <tr>\n",
       "      <th>0</th>\n",
       "      <td>0.000000</td>\n",
       "      <td>0.0</td>\n",
       "      <td>0.000000</td>\n",
       "      <td>0.0</td>\n",
       "      <td>0.000000</td>\n",
       "      <td>0.000000</td>\n",
       "      <td>0.000000</td>\n",
       "      <td>0.000000</td>\n",
       "      <td>0.000000</td>\n",
       "      <td>0.000000</td>\n",
       "      <td>...</td>\n",
       "      <td>0.0</td>\n",
       "      <td>0.000000</td>\n",
       "      <td>0.000000</td>\n",
       "      <td>0.0</td>\n",
       "      <td>0.000000</td>\n",
       "      <td>0.0</td>\n",
       "      <td>0.0</td>\n",
       "      <td>0.000000</td>\n",
       "      <td>0.000000</td>\n",
       "      <td>0.000000</td>\n",
       "    </tr>\n",
       "    <tr>\n",
       "      <th>1</th>\n",
       "      <td>0.000000</td>\n",
       "      <td>0.0</td>\n",
       "      <td>0.000000</td>\n",
       "      <td>0.0</td>\n",
       "      <td>0.000000</td>\n",
       "      <td>0.000000</td>\n",
       "      <td>0.104999</td>\n",
       "      <td>0.044753</td>\n",
       "      <td>0.000000</td>\n",
       "      <td>0.000000</td>\n",
       "      <td>...</td>\n",
       "      <td>0.0</td>\n",
       "      <td>0.122716</td>\n",
       "      <td>0.055272</td>\n",
       "      <td>0.0</td>\n",
       "      <td>0.000000</td>\n",
       "      <td>0.0</td>\n",
       "      <td>0.0</td>\n",
       "      <td>0.000000</td>\n",
       "      <td>0.267277</td>\n",
       "      <td>0.000000</td>\n",
       "    </tr>\n",
       "    <tr>\n",
       "      <th>2</th>\n",
       "      <td>0.000000</td>\n",
       "      <td>0.0</td>\n",
       "      <td>0.000000</td>\n",
       "      <td>0.0</td>\n",
       "      <td>0.000000</td>\n",
       "      <td>0.000000</td>\n",
       "      <td>0.000000</td>\n",
       "      <td>0.043404</td>\n",
       "      <td>0.000000</td>\n",
       "      <td>0.000000</td>\n",
       "      <td>...</td>\n",
       "      <td>0.0</td>\n",
       "      <td>0.000000</td>\n",
       "      <td>0.053605</td>\n",
       "      <td>0.0</td>\n",
       "      <td>0.107924</td>\n",
       "      <td>0.0</td>\n",
       "      <td>0.0</td>\n",
       "      <td>0.000000</td>\n",
       "      <td>0.037031</td>\n",
       "      <td>0.087398</td>\n",
       "    </tr>\n",
       "    <tr>\n",
       "      <th>3</th>\n",
       "      <td>0.121712</td>\n",
       "      <td>0.0</td>\n",
       "      <td>0.060072</td>\n",
       "      <td>0.0</td>\n",
       "      <td>0.030287</td>\n",
       "      <td>0.070883</td>\n",
       "      <td>0.027942</td>\n",
       "      <td>0.119098</td>\n",
       "      <td>0.031994</td>\n",
       "      <td>0.097566</td>\n",
       "      <td>...</td>\n",
       "      <td>0.0</td>\n",
       "      <td>0.000000</td>\n",
       "      <td>0.029418</td>\n",
       "      <td>0.0</td>\n",
       "      <td>0.000000</td>\n",
       "      <td>0.0</td>\n",
       "      <td>0.0</td>\n",
       "      <td>0.000000</td>\n",
       "      <td>0.223545</td>\n",
       "      <td>0.095927</td>\n",
       "    </tr>\n",
       "    <tr>\n",
       "      <th>4</th>\n",
       "      <td>0.000000</td>\n",
       "      <td>0.0</td>\n",
       "      <td>0.000000</td>\n",
       "      <td>0.0</td>\n",
       "      <td>0.000000</td>\n",
       "      <td>0.000000</td>\n",
       "      <td>0.000000</td>\n",
       "      <td>0.026247</td>\n",
       "      <td>0.000000</td>\n",
       "      <td>0.000000</td>\n",
       "      <td>...</td>\n",
       "      <td>0.0</td>\n",
       "      <td>0.000000</td>\n",
       "      <td>0.032415</td>\n",
       "      <td>0.0</td>\n",
       "      <td>0.032631</td>\n",
       "      <td>0.0</td>\n",
       "      <td>0.0</td>\n",
       "      <td>0.043064</td>\n",
       "      <td>0.089572</td>\n",
       "      <td>0.000000</td>\n",
       "    </tr>\n",
       "  </tbody>\n",
       "</table>\n",
       "<p>5 rows × 300 columns</p>\n",
       "</div>"
      ],
      "text/plain": [
       "          0  000         1   10         2      2023      2024      2025  \\\n",
       "0  0.000000  0.0  0.000000  0.0  0.000000  0.000000  0.000000  0.000000   \n",
       "1  0.000000  0.0  0.000000  0.0  0.000000  0.000000  0.104999  0.044753   \n",
       "2  0.000000  0.0  0.000000  0.0  0.000000  0.000000  0.000000  0.043404   \n",
       "3  0.121712  0.0  0.060072  0.0  0.030287  0.070883  0.027942  0.119098   \n",
       "4  0.000000  0.0  0.000000  0.0  0.000000  0.000000  0.000000  0.026247   \n",
       "\n",
       "          3         4  ...  way      week      well  without      work  world  \\\n",
       "0  0.000000  0.000000  ...  0.0  0.000000  0.000000      0.0  0.000000    0.0   \n",
       "1  0.000000  0.000000  ...  0.0  0.122716  0.055272      0.0  0.000000    0.0   \n",
       "2  0.000000  0.000000  ...  0.0  0.000000  0.053605      0.0  0.107924    0.0   \n",
       "3  0.031994  0.097566  ...  0.0  0.000000  0.029418      0.0  0.000000    0.0   \n",
       "4  0.000000  0.000000  ...  0.0  0.000000  0.032415      0.0  0.032631    0.0   \n",
       "\n",
       "   worth     write      year     yield  \n",
       "0    0.0  0.000000  0.000000  0.000000  \n",
       "1    0.0  0.000000  0.267277  0.000000  \n",
       "2    0.0  0.000000  0.037031  0.087398  \n",
       "3    0.0  0.000000  0.223545  0.095927  \n",
       "4    0.0  0.043064  0.089572  0.000000  \n",
       "\n",
       "[5 rows x 300 columns]"
      ]
     },
     "execution_count": 25,
     "metadata": {},
     "output_type": "execute_result"
    }
   ],
   "source": [
    "test_vector.head()"
   ]
  },
  {
   "attachments": {},
   "cell_type": "markdown",
   "metadata": {
    "id": "I8wL6gmR1fW2",
    "outputId": "22e9f099-4e28-4bee-a26b-4f977b510dcb"
   },
   "source": [
    "## MODELLING"
   ]
  },
  {
   "cell_type": "code",
   "execution_count": 19,
   "metadata": {},
   "outputs": [],
   "source": [
    "import cloudpickle\n",
    "\n",
    "with open(\"models/tfidf_vectorizer_300.dill\", \"rb\") as f:\n",
    "    tfidf_loaded = dill.load(f)\n",
    "\n",
    "\n",
    "with open(\"models/tfidf_vectorizer_300.pkl\", \"wb\") as f:\n",
    "    cloudpickle.dump(tfidf_loaded, f)"
   ]
  },
  {
   "cell_type": "code",
   "execution_count": 29,
   "metadata": {
    "id": "TRF4LSkp1fW3"
   },
   "outputs": [],
   "source": [
    "def class_report(y_true, y_pred):\n",
    "    report = classification_report(y_true, y_pred, target_names=[0,1], output_dict= True)\n",
    "    #report_df = pd.DataFrame(report).transpose()\n",
    "    #n = ['s', 'r']#list(labenc.inverse_transform([int(c) for c in list(report_df.index[:16])]))\n",
    "    #n.append('accuracy')\n",
    "    #n.append('macro avg')\n",
    "    #n.append('weighted avg')\n",
    "    #report_df.index = n\n",
    "    return report"
   ]
  },
  {
   "attachments": {},
   "cell_type": "markdown",
   "metadata": {
    "id": "Pc7_r9Xo_uY0"
   },
   "source": [
    "# XGBOOST"
   ]
  },
  {
   "cell_type": "code",
   "execution_count": 69,
   "metadata": {
    "id": "7zVs6D3R1fW3"
   },
   "outputs": [],
   "source": [
    "xg = XGBClassifier()"
   ]
  },
  {
   "cell_type": "code",
   "execution_count": 70,
   "metadata": {
    "id": "2sGfw16_1fW7"
   },
   "outputs": [
    {
     "name": "stdout",
     "output_type": "stream",
     "text": [
      "CPU times: total: 5.02 s\n",
      "Wall time: 1.51 s\n"
     ]
    },
    {
     "data": {
      "text/html": [
       "<style>#sk-container-id-5 {color: black;background-color: white;}#sk-container-id-5 pre{padding: 0;}#sk-container-id-5 div.sk-toggleable {background-color: white;}#sk-container-id-5 label.sk-toggleable__label {cursor: pointer;display: block;width: 100%;margin-bottom: 0;padding: 0.3em;box-sizing: border-box;text-align: center;}#sk-container-id-5 label.sk-toggleable__label-arrow:before {content: \"▸\";float: left;margin-right: 0.25em;color: #696969;}#sk-container-id-5 label.sk-toggleable__label-arrow:hover:before {color: black;}#sk-container-id-5 div.sk-estimator:hover label.sk-toggleable__label-arrow:before {color: black;}#sk-container-id-5 div.sk-toggleable__content {max-height: 0;max-width: 0;overflow: hidden;text-align: left;background-color: #f0f8ff;}#sk-container-id-5 div.sk-toggleable__content pre {margin: 0.2em;color: black;border-radius: 0.25em;background-color: #f0f8ff;}#sk-container-id-5 input.sk-toggleable__control:checked~div.sk-toggleable__content {max-height: 200px;max-width: 100%;overflow: auto;}#sk-container-id-5 input.sk-toggleable__control:checked~label.sk-toggleable__label-arrow:before {content: \"▾\";}#sk-container-id-5 div.sk-estimator input.sk-toggleable__control:checked~label.sk-toggleable__label {background-color: #d4ebff;}#sk-container-id-5 div.sk-label input.sk-toggleable__control:checked~label.sk-toggleable__label {background-color: #d4ebff;}#sk-container-id-5 input.sk-hidden--visually {border: 0;clip: rect(1px 1px 1px 1px);clip: rect(1px, 1px, 1px, 1px);height: 1px;margin: -1px;overflow: hidden;padding: 0;position: absolute;width: 1px;}#sk-container-id-5 div.sk-estimator {font-family: monospace;background-color: #f0f8ff;border: 1px dotted black;border-radius: 0.25em;box-sizing: border-box;margin-bottom: 0.5em;}#sk-container-id-5 div.sk-estimator:hover {background-color: #d4ebff;}#sk-container-id-5 div.sk-parallel-item::after {content: \"\";width: 100%;border-bottom: 1px solid gray;flex-grow: 1;}#sk-container-id-5 div.sk-label:hover label.sk-toggleable__label {background-color: #d4ebff;}#sk-container-id-5 div.sk-serial::before {content: \"\";position: absolute;border-left: 1px solid gray;box-sizing: border-box;top: 0;bottom: 0;left: 50%;z-index: 0;}#sk-container-id-5 div.sk-serial {display: flex;flex-direction: column;align-items: center;background-color: white;padding-right: 0.2em;padding-left: 0.2em;position: relative;}#sk-container-id-5 div.sk-item {position: relative;z-index: 1;}#sk-container-id-5 div.sk-parallel {display: flex;align-items: stretch;justify-content: center;background-color: white;position: relative;}#sk-container-id-5 div.sk-item::before, #sk-container-id-5 div.sk-parallel-item::before {content: \"\";position: absolute;border-left: 1px solid gray;box-sizing: border-box;top: 0;bottom: 0;left: 50%;z-index: -1;}#sk-container-id-5 div.sk-parallel-item {display: flex;flex-direction: column;z-index: 1;position: relative;background-color: white;}#sk-container-id-5 div.sk-parallel-item:first-child::after {align-self: flex-end;width: 50%;}#sk-container-id-5 div.sk-parallel-item:last-child::after {align-self: flex-start;width: 50%;}#sk-container-id-5 div.sk-parallel-item:only-child::after {width: 0;}#sk-container-id-5 div.sk-dashed-wrapped {border: 1px dashed gray;margin: 0 0.4em 0.5em 0.4em;box-sizing: border-box;padding-bottom: 0.4em;background-color: white;}#sk-container-id-5 div.sk-label label {font-family: monospace;font-weight: bold;display: inline-block;line-height: 1.2em;}#sk-container-id-5 div.sk-label-container {text-align: center;}#sk-container-id-5 div.sk-container {/* jupyter's `normalize.less` sets `[hidden] { display: none; }` but bootstrap.min.css set `[hidden] { display: none !important; }` so we also need the `!important` here to be able to override the default hidden behavior on the sphinx rendered scikit-learn.org. See: https://github.com/scikit-learn/scikit-learn/issues/21755 */display: inline-block !important;position: relative;}#sk-container-id-5 div.sk-text-repr-fallback {display: none;}</style><div id=\"sk-container-id-5\" class=\"sk-top-container\"><div class=\"sk-text-repr-fallback\"><pre>XGBClassifier(base_score=None, booster=None, callbacks=None,\n",
       "              colsample_bylevel=None, colsample_bynode=None,\n",
       "              colsample_bytree=None, device=None, early_stopping_rounds=None,\n",
       "              enable_categorical=False, eval_metric=None, feature_types=None,\n",
       "              gamma=None, grow_policy=None, importance_type=None,\n",
       "              interaction_constraints=None, learning_rate=None, max_bin=None,\n",
       "              max_cat_threshold=None, max_cat_to_onehot=None,\n",
       "              max_delta_step=None, max_depth=None, max_leaves=None,\n",
       "              min_child_weight=None, missing=nan, monotone_constraints=None,\n",
       "              multi_strategy=None, n_estimators=None, n_jobs=None,\n",
       "              num_parallel_tree=None, random_state=None, ...)</pre><b>In a Jupyter environment, please rerun this cell to show the HTML representation or trust the notebook. <br />On GitHub, the HTML representation is unable to render, please try loading this page with nbviewer.org.</b></div><div class=\"sk-container\" hidden><div class=\"sk-item\"><div class=\"sk-estimator sk-toggleable\"><input class=\"sk-toggleable__control sk-hidden--visually\" id=\"sk-estimator-id-5\" type=\"checkbox\" checked><label for=\"sk-estimator-id-5\" class=\"sk-toggleable__label sk-toggleable__label-arrow\">XGBClassifier</label><div class=\"sk-toggleable__content\"><pre>XGBClassifier(base_score=None, booster=None, callbacks=None,\n",
       "              colsample_bylevel=None, colsample_bynode=None,\n",
       "              colsample_bytree=None, device=None, early_stopping_rounds=None,\n",
       "              enable_categorical=False, eval_metric=None, feature_types=None,\n",
       "              gamma=None, grow_policy=None, importance_type=None,\n",
       "              interaction_constraints=None, learning_rate=None, max_bin=None,\n",
       "              max_cat_threshold=None, max_cat_to_onehot=None,\n",
       "              max_delta_step=None, max_depth=None, max_leaves=None,\n",
       "              min_child_weight=None, missing=nan, monotone_constraints=None,\n",
       "              multi_strategy=None, n_estimators=None, n_jobs=None,\n",
       "              num_parallel_tree=None, random_state=None, ...)</pre></div></div></div></div></div>"
      ],
      "text/plain": [
       "XGBClassifier(base_score=None, booster=None, callbacks=None,\n",
       "              colsample_bylevel=None, colsample_bynode=None,\n",
       "              colsample_bytree=None, device=None, early_stopping_rounds=None,\n",
       "              enable_categorical=False, eval_metric=None, feature_types=None,\n",
       "              gamma=None, grow_policy=None, importance_type=None,\n",
       "              interaction_constraints=None, learning_rate=None, max_bin=None,\n",
       "              max_cat_threshold=None, max_cat_to_onehot=None,\n",
       "              max_delta_step=None, max_depth=None, max_leaves=None,\n",
       "              min_child_weight=None, missing=nan, monotone_constraints=None,\n",
       "              multi_strategy=None, n_estimators=None, n_jobs=None,\n",
       "              num_parallel_tree=None, random_state=None, ...)"
      ]
     },
     "execution_count": 70,
     "metadata": {},
     "output_type": "execute_result"
    }
   ],
   "source": [
    "%%time\n",
    "xg.fit(train_vector, y_train)"
   ]
  },
  {
   "cell_type": "code",
   "execution_count": 71,
   "metadata": {
    "id": "wpdKm3M31fW7"
   },
   "outputs": [],
   "source": [
    "xg_pred = xg.predict(test_vector)"
   ]
  },
  {
   "cell_type": "code",
   "execution_count": 72,
   "metadata": {
    "id": "21GoXasy1fW8"
   },
   "outputs": [
    {
     "data": {
      "text/plain": [
       "{0: {'precision': 0.8859154929577465,\n",
       "  'recall': 0.9402092675635276,\n",
       "  'f1-score': 0.9122552574329225,\n",
       "  'support': 669},\n",
       " 1: {'precision': 0.6581196581196581,\n",
       "  'recall': 0.4873417721518987,\n",
       "  'f1-score': 0.5599999999999999,\n",
       "  'support': 158},\n",
       " 'accuracy': 0.8536880290205562,\n",
       " 'macro avg': {'precision': 0.7720175755387023,\n",
       "  'recall': 0.7137755198577131,\n",
       "  'f1-score': 0.7361276287164612,\n",
       "  'support': 827},\n",
       " 'weighted avg': {'precision': 0.8423946442220538,\n",
       "  'recall': 0.8536880290205562,\n",
       "  'f1-score': 0.8449561876936217,\n",
       "  'support': 827}}"
      ]
     },
     "execution_count": 72,
     "metadata": {},
     "output_type": "execute_result"
    }
   ],
   "source": [
    "class_report(y_test, xg_pred)"
   ]
  },
  {
   "cell_type": "code",
   "execution_count": 85,
   "metadata": {
    "id": "tIFrw9Jg1fW8"
   },
   "outputs": [],
   "source": [
    "# Tuning xgboost\n",
    "xg_param = {'max_depth':[3, 10, 15], 'learning_rate':[0.05, 0.1, 0.3], 'gamma':[0.2, 0.4], 'scale_pos_weight':[15,20,25]}"
   ]
  },
  {
   "cell_type": "code",
   "execution_count": 86,
   "metadata": {
    "id": "x2GW0vjS1fW9"
   },
   "outputs": [],
   "source": [
    "xg_grid = RandomizedSearchCV(XGBClassifier(n_jobs= -1), xg_param, cv= 2)"
   ]
  },
  {
   "cell_type": "code",
   "execution_count": 87,
   "metadata": {
    "id": "JWaiW61n1fW9"
   },
   "outputs": [
    {
     "data": {
      "text/html": [
       "<style>#sk-container-id-9 {color: black;background-color: white;}#sk-container-id-9 pre{padding: 0;}#sk-container-id-9 div.sk-toggleable {background-color: white;}#sk-container-id-9 label.sk-toggleable__label {cursor: pointer;display: block;width: 100%;margin-bottom: 0;padding: 0.3em;box-sizing: border-box;text-align: center;}#sk-container-id-9 label.sk-toggleable__label-arrow:before {content: \"▸\";float: left;margin-right: 0.25em;color: #696969;}#sk-container-id-9 label.sk-toggleable__label-arrow:hover:before {color: black;}#sk-container-id-9 div.sk-estimator:hover label.sk-toggleable__label-arrow:before {color: black;}#sk-container-id-9 div.sk-toggleable__content {max-height: 0;max-width: 0;overflow: hidden;text-align: left;background-color: #f0f8ff;}#sk-container-id-9 div.sk-toggleable__content pre {margin: 0.2em;color: black;border-radius: 0.25em;background-color: #f0f8ff;}#sk-container-id-9 input.sk-toggleable__control:checked~div.sk-toggleable__content {max-height: 200px;max-width: 100%;overflow: auto;}#sk-container-id-9 input.sk-toggleable__control:checked~label.sk-toggleable__label-arrow:before {content: \"▾\";}#sk-container-id-9 div.sk-estimator input.sk-toggleable__control:checked~label.sk-toggleable__label {background-color: #d4ebff;}#sk-container-id-9 div.sk-label input.sk-toggleable__control:checked~label.sk-toggleable__label {background-color: #d4ebff;}#sk-container-id-9 input.sk-hidden--visually {border: 0;clip: rect(1px 1px 1px 1px);clip: rect(1px, 1px, 1px, 1px);height: 1px;margin: -1px;overflow: hidden;padding: 0;position: absolute;width: 1px;}#sk-container-id-9 div.sk-estimator {font-family: monospace;background-color: #f0f8ff;border: 1px dotted black;border-radius: 0.25em;box-sizing: border-box;margin-bottom: 0.5em;}#sk-container-id-9 div.sk-estimator:hover {background-color: #d4ebff;}#sk-container-id-9 div.sk-parallel-item::after {content: \"\";width: 100%;border-bottom: 1px solid gray;flex-grow: 1;}#sk-container-id-9 div.sk-label:hover label.sk-toggleable__label {background-color: #d4ebff;}#sk-container-id-9 div.sk-serial::before {content: \"\";position: absolute;border-left: 1px solid gray;box-sizing: border-box;top: 0;bottom: 0;left: 50%;z-index: 0;}#sk-container-id-9 div.sk-serial {display: flex;flex-direction: column;align-items: center;background-color: white;padding-right: 0.2em;padding-left: 0.2em;position: relative;}#sk-container-id-9 div.sk-item {position: relative;z-index: 1;}#sk-container-id-9 div.sk-parallel {display: flex;align-items: stretch;justify-content: center;background-color: white;position: relative;}#sk-container-id-9 div.sk-item::before, #sk-container-id-9 div.sk-parallel-item::before {content: \"\";position: absolute;border-left: 1px solid gray;box-sizing: border-box;top: 0;bottom: 0;left: 50%;z-index: -1;}#sk-container-id-9 div.sk-parallel-item {display: flex;flex-direction: column;z-index: 1;position: relative;background-color: white;}#sk-container-id-9 div.sk-parallel-item:first-child::after {align-self: flex-end;width: 50%;}#sk-container-id-9 div.sk-parallel-item:last-child::after {align-self: flex-start;width: 50%;}#sk-container-id-9 div.sk-parallel-item:only-child::after {width: 0;}#sk-container-id-9 div.sk-dashed-wrapped {border: 1px dashed gray;margin: 0 0.4em 0.5em 0.4em;box-sizing: border-box;padding-bottom: 0.4em;background-color: white;}#sk-container-id-9 div.sk-label label {font-family: monospace;font-weight: bold;display: inline-block;line-height: 1.2em;}#sk-container-id-9 div.sk-label-container {text-align: center;}#sk-container-id-9 div.sk-container {/* jupyter's `normalize.less` sets `[hidden] { display: none; }` but bootstrap.min.css set `[hidden] { display: none !important; }` so we also need the `!important` here to be able to override the default hidden behavior on the sphinx rendered scikit-learn.org. See: https://github.com/scikit-learn/scikit-learn/issues/21755 */display: inline-block !important;position: relative;}#sk-container-id-9 div.sk-text-repr-fallback {display: none;}</style><div id=\"sk-container-id-9\" class=\"sk-top-container\"><div class=\"sk-text-repr-fallback\"><pre>RandomizedSearchCV(cv=2,\n",
       "                   estimator=XGBClassifier(base_score=None, booster=None,\n",
       "                                           callbacks=None,\n",
       "                                           colsample_bylevel=None,\n",
       "                                           colsample_bynode=None,\n",
       "                                           colsample_bytree=None, device=None,\n",
       "                                           early_stopping_rounds=None,\n",
       "                                           enable_categorical=False,\n",
       "                                           eval_metric=None, feature_types=None,\n",
       "                                           gamma=None, grow_policy=None,\n",
       "                                           importance_type=None,\n",
       "                                           interaction_constraints=None,\n",
       "                                           learning_rate...\n",
       "                                           max_cat_to_onehot=None,\n",
       "                                           max_delta_step=None, max_depth=None,\n",
       "                                           max_leaves=None,\n",
       "                                           min_child_weight=None, missing=nan,\n",
       "                                           monotone_constraints=None,\n",
       "                                           multi_strategy=None,\n",
       "                                           n_estimators=None, n_jobs=-1,\n",
       "                                           num_parallel_tree=None,\n",
       "                                           random_state=None, ...),\n",
       "                   param_distributions={&#x27;gamma&#x27;: [0.2, 0.4],\n",
       "                                        &#x27;learning_rate&#x27;: [0.05, 0.1, 0.3],\n",
       "                                        &#x27;max_depth&#x27;: [3, 10, 15],\n",
       "                                        &#x27;scale_pos_weight&#x27;: [15, 20, 25]})</pre><b>In a Jupyter environment, please rerun this cell to show the HTML representation or trust the notebook. <br />On GitHub, the HTML representation is unable to render, please try loading this page with nbviewer.org.</b></div><div class=\"sk-container\" hidden><div class=\"sk-item sk-dashed-wrapped\"><div class=\"sk-label-container\"><div class=\"sk-label sk-toggleable\"><input class=\"sk-toggleable__control sk-hidden--visually\" id=\"sk-estimator-id-11\" type=\"checkbox\" ><label for=\"sk-estimator-id-11\" class=\"sk-toggleable__label sk-toggleable__label-arrow\">RandomizedSearchCV</label><div class=\"sk-toggleable__content\"><pre>RandomizedSearchCV(cv=2,\n",
       "                   estimator=XGBClassifier(base_score=None, booster=None,\n",
       "                                           callbacks=None,\n",
       "                                           colsample_bylevel=None,\n",
       "                                           colsample_bynode=None,\n",
       "                                           colsample_bytree=None, device=None,\n",
       "                                           early_stopping_rounds=None,\n",
       "                                           enable_categorical=False,\n",
       "                                           eval_metric=None, feature_types=None,\n",
       "                                           gamma=None, grow_policy=None,\n",
       "                                           importance_type=None,\n",
       "                                           interaction_constraints=None,\n",
       "                                           learning_rate...\n",
       "                                           max_cat_to_onehot=None,\n",
       "                                           max_delta_step=None, max_depth=None,\n",
       "                                           max_leaves=None,\n",
       "                                           min_child_weight=None, missing=nan,\n",
       "                                           monotone_constraints=None,\n",
       "                                           multi_strategy=None,\n",
       "                                           n_estimators=None, n_jobs=-1,\n",
       "                                           num_parallel_tree=None,\n",
       "                                           random_state=None, ...),\n",
       "                   param_distributions={&#x27;gamma&#x27;: [0.2, 0.4],\n",
       "                                        &#x27;learning_rate&#x27;: [0.05, 0.1, 0.3],\n",
       "                                        &#x27;max_depth&#x27;: [3, 10, 15],\n",
       "                                        &#x27;scale_pos_weight&#x27;: [15, 20, 25]})</pre></div></div></div><div class=\"sk-parallel\"><div class=\"sk-parallel-item\"><div class=\"sk-item\"><div class=\"sk-label-container\"><div class=\"sk-label sk-toggleable\"><input class=\"sk-toggleable__control sk-hidden--visually\" id=\"sk-estimator-id-12\" type=\"checkbox\" ><label for=\"sk-estimator-id-12\" class=\"sk-toggleable__label sk-toggleable__label-arrow\">estimator: XGBClassifier</label><div class=\"sk-toggleable__content\"><pre>XGBClassifier(base_score=None, booster=None, callbacks=None,\n",
       "              colsample_bylevel=None, colsample_bynode=None,\n",
       "              colsample_bytree=None, device=None, early_stopping_rounds=None,\n",
       "              enable_categorical=False, eval_metric=None, feature_types=None,\n",
       "              gamma=None, grow_policy=None, importance_type=None,\n",
       "              interaction_constraints=None, learning_rate=None, max_bin=None,\n",
       "              max_cat_threshold=None, max_cat_to_onehot=None,\n",
       "              max_delta_step=None, max_depth=None, max_leaves=None,\n",
       "              min_child_weight=None, missing=nan, monotone_constraints=None,\n",
       "              multi_strategy=None, n_estimators=None, n_jobs=-1,\n",
       "              num_parallel_tree=None, random_state=None, ...)</pre></div></div></div><div class=\"sk-serial\"><div class=\"sk-item\"><div class=\"sk-estimator sk-toggleable\"><input class=\"sk-toggleable__control sk-hidden--visually\" id=\"sk-estimator-id-13\" type=\"checkbox\" ><label for=\"sk-estimator-id-13\" class=\"sk-toggleable__label sk-toggleable__label-arrow\">XGBClassifier</label><div class=\"sk-toggleable__content\"><pre>XGBClassifier(base_score=None, booster=None, callbacks=None,\n",
       "              colsample_bylevel=None, colsample_bynode=None,\n",
       "              colsample_bytree=None, device=None, early_stopping_rounds=None,\n",
       "              enable_categorical=False, eval_metric=None, feature_types=None,\n",
       "              gamma=None, grow_policy=None, importance_type=None,\n",
       "              interaction_constraints=None, learning_rate=None, max_bin=None,\n",
       "              max_cat_threshold=None, max_cat_to_onehot=None,\n",
       "              max_delta_step=None, max_depth=None, max_leaves=None,\n",
       "              min_child_weight=None, missing=nan, monotone_constraints=None,\n",
       "              multi_strategy=None, n_estimators=None, n_jobs=-1,\n",
       "              num_parallel_tree=None, random_state=None, ...)</pre></div></div></div></div></div></div></div></div></div></div>"
      ],
      "text/plain": [
       "RandomizedSearchCV(cv=2,\n",
       "                   estimator=XGBClassifier(base_score=None, booster=None,\n",
       "                                           callbacks=None,\n",
       "                                           colsample_bylevel=None,\n",
       "                                           colsample_bynode=None,\n",
       "                                           colsample_bytree=None, device=None,\n",
       "                                           early_stopping_rounds=None,\n",
       "                                           enable_categorical=False,\n",
       "                                           eval_metric=None, feature_types=None,\n",
       "                                           gamma=None, grow_policy=None,\n",
       "                                           importance_type=None,\n",
       "                                           interaction_constraints=None,\n",
       "                                           learning_rate...\n",
       "                                           max_cat_to_onehot=None,\n",
       "                                           max_delta_step=None, max_depth=None,\n",
       "                                           max_leaves=None,\n",
       "                                           min_child_weight=None, missing=nan,\n",
       "                                           monotone_constraints=None,\n",
       "                                           multi_strategy=None,\n",
       "                                           n_estimators=None, n_jobs=-1,\n",
       "                                           num_parallel_tree=None,\n",
       "                                           random_state=None, ...),\n",
       "                   param_distributions={'gamma': [0.2, 0.4],\n",
       "                                        'learning_rate': [0.05, 0.1, 0.3],\n",
       "                                        'max_depth': [3, 10, 15],\n",
       "                                        'scale_pos_weight': [15, 20, 25]})"
      ]
     },
     "execution_count": 87,
     "metadata": {},
     "output_type": "execute_result"
    }
   ],
   "source": [
    "xg_grid.fit(train_vector, y_train)"
   ]
  },
  {
   "cell_type": "code",
   "execution_count": 88,
   "metadata": {
    "id": "_tBq_GLC1fW-"
   },
   "outputs": [
    {
     "data": {
      "text/html": [
       "<style>#sk-container-id-10 {color: black;background-color: white;}#sk-container-id-10 pre{padding: 0;}#sk-container-id-10 div.sk-toggleable {background-color: white;}#sk-container-id-10 label.sk-toggleable__label {cursor: pointer;display: block;width: 100%;margin-bottom: 0;padding: 0.3em;box-sizing: border-box;text-align: center;}#sk-container-id-10 label.sk-toggleable__label-arrow:before {content: \"▸\";float: left;margin-right: 0.25em;color: #696969;}#sk-container-id-10 label.sk-toggleable__label-arrow:hover:before {color: black;}#sk-container-id-10 div.sk-estimator:hover label.sk-toggleable__label-arrow:before {color: black;}#sk-container-id-10 div.sk-toggleable__content {max-height: 0;max-width: 0;overflow: hidden;text-align: left;background-color: #f0f8ff;}#sk-container-id-10 div.sk-toggleable__content pre {margin: 0.2em;color: black;border-radius: 0.25em;background-color: #f0f8ff;}#sk-container-id-10 input.sk-toggleable__control:checked~div.sk-toggleable__content {max-height: 200px;max-width: 100%;overflow: auto;}#sk-container-id-10 input.sk-toggleable__control:checked~label.sk-toggleable__label-arrow:before {content: \"▾\";}#sk-container-id-10 div.sk-estimator input.sk-toggleable__control:checked~label.sk-toggleable__label {background-color: #d4ebff;}#sk-container-id-10 div.sk-label input.sk-toggleable__control:checked~label.sk-toggleable__label {background-color: #d4ebff;}#sk-container-id-10 input.sk-hidden--visually {border: 0;clip: rect(1px 1px 1px 1px);clip: rect(1px, 1px, 1px, 1px);height: 1px;margin: -1px;overflow: hidden;padding: 0;position: absolute;width: 1px;}#sk-container-id-10 div.sk-estimator {font-family: monospace;background-color: #f0f8ff;border: 1px dotted black;border-radius: 0.25em;box-sizing: border-box;margin-bottom: 0.5em;}#sk-container-id-10 div.sk-estimator:hover {background-color: #d4ebff;}#sk-container-id-10 div.sk-parallel-item::after {content: \"\";width: 100%;border-bottom: 1px solid gray;flex-grow: 1;}#sk-container-id-10 div.sk-label:hover label.sk-toggleable__label {background-color: #d4ebff;}#sk-container-id-10 div.sk-serial::before {content: \"\";position: absolute;border-left: 1px solid gray;box-sizing: border-box;top: 0;bottom: 0;left: 50%;z-index: 0;}#sk-container-id-10 div.sk-serial {display: flex;flex-direction: column;align-items: center;background-color: white;padding-right: 0.2em;padding-left: 0.2em;position: relative;}#sk-container-id-10 div.sk-item {position: relative;z-index: 1;}#sk-container-id-10 div.sk-parallel {display: flex;align-items: stretch;justify-content: center;background-color: white;position: relative;}#sk-container-id-10 div.sk-item::before, #sk-container-id-10 div.sk-parallel-item::before {content: \"\";position: absolute;border-left: 1px solid gray;box-sizing: border-box;top: 0;bottom: 0;left: 50%;z-index: -1;}#sk-container-id-10 div.sk-parallel-item {display: flex;flex-direction: column;z-index: 1;position: relative;background-color: white;}#sk-container-id-10 div.sk-parallel-item:first-child::after {align-self: flex-end;width: 50%;}#sk-container-id-10 div.sk-parallel-item:last-child::after {align-self: flex-start;width: 50%;}#sk-container-id-10 div.sk-parallel-item:only-child::after {width: 0;}#sk-container-id-10 div.sk-dashed-wrapped {border: 1px dashed gray;margin: 0 0.4em 0.5em 0.4em;box-sizing: border-box;padding-bottom: 0.4em;background-color: white;}#sk-container-id-10 div.sk-label label {font-family: monospace;font-weight: bold;display: inline-block;line-height: 1.2em;}#sk-container-id-10 div.sk-label-container {text-align: center;}#sk-container-id-10 div.sk-container {/* jupyter's `normalize.less` sets `[hidden] { display: none; }` but bootstrap.min.css set `[hidden] { display: none !important; }` so we also need the `!important` here to be able to override the default hidden behavior on the sphinx rendered scikit-learn.org. See: https://github.com/scikit-learn/scikit-learn/issues/21755 */display: inline-block !important;position: relative;}#sk-container-id-10 div.sk-text-repr-fallback {display: none;}</style><div id=\"sk-container-id-10\" class=\"sk-top-container\"><div class=\"sk-text-repr-fallback\"><pre>XGBClassifier(base_score=None, booster=None, callbacks=None,\n",
       "              colsample_bylevel=None, colsample_bynode=None,\n",
       "              colsample_bytree=None, device=None, early_stopping_rounds=None,\n",
       "              enable_categorical=False, eval_metric=None, feature_types=None,\n",
       "              gamma=0.2, grow_policy=None, importance_type=None,\n",
       "              interaction_constraints=None, learning_rate=0.1, max_bin=None,\n",
       "              max_cat_threshold=None, max_cat_to_onehot=None,\n",
       "              max_delta_step=None, max_depth=15, max_leaves=None,\n",
       "              min_child_weight=None, missing=nan, monotone_constraints=None,\n",
       "              multi_strategy=None, n_estimators=None, n_jobs=-1,\n",
       "              num_parallel_tree=None, random_state=None, ...)</pre><b>In a Jupyter environment, please rerun this cell to show the HTML representation or trust the notebook. <br />On GitHub, the HTML representation is unable to render, please try loading this page with nbviewer.org.</b></div><div class=\"sk-container\" hidden><div class=\"sk-item\"><div class=\"sk-estimator sk-toggleable\"><input class=\"sk-toggleable__control sk-hidden--visually\" id=\"sk-estimator-id-14\" type=\"checkbox\" checked><label for=\"sk-estimator-id-14\" class=\"sk-toggleable__label sk-toggleable__label-arrow\">XGBClassifier</label><div class=\"sk-toggleable__content\"><pre>XGBClassifier(base_score=None, booster=None, callbacks=None,\n",
       "              colsample_bylevel=None, colsample_bynode=None,\n",
       "              colsample_bytree=None, device=None, early_stopping_rounds=None,\n",
       "              enable_categorical=False, eval_metric=None, feature_types=None,\n",
       "              gamma=0.2, grow_policy=None, importance_type=None,\n",
       "              interaction_constraints=None, learning_rate=0.1, max_bin=None,\n",
       "              max_cat_threshold=None, max_cat_to_onehot=None,\n",
       "              max_delta_step=None, max_depth=15, max_leaves=None,\n",
       "              min_child_weight=None, missing=nan, monotone_constraints=None,\n",
       "              multi_strategy=None, n_estimators=None, n_jobs=-1,\n",
       "              num_parallel_tree=None, random_state=None, ...)</pre></div></div></div></div></div>"
      ],
      "text/plain": [
       "XGBClassifier(base_score=None, booster=None, callbacks=None,\n",
       "              colsample_bylevel=None, colsample_bynode=None,\n",
       "              colsample_bytree=None, device=None, early_stopping_rounds=None,\n",
       "              enable_categorical=False, eval_metric=None, feature_types=None,\n",
       "              gamma=0.2, grow_policy=None, importance_type=None,\n",
       "              interaction_constraints=None, learning_rate=0.1, max_bin=None,\n",
       "              max_cat_threshold=None, max_cat_to_onehot=None,\n",
       "              max_delta_step=None, max_depth=15, max_leaves=None,\n",
       "              min_child_weight=None, missing=nan, monotone_constraints=None,\n",
       "              multi_strategy=None, n_estimators=None, n_jobs=-1,\n",
       "              num_parallel_tree=None, random_state=None, ...)"
      ]
     },
     "execution_count": 88,
     "metadata": {},
     "output_type": "execute_result"
    }
   ],
   "source": [
    "xg_grid.best_estimator_"
   ]
  },
  {
   "cell_type": "code",
   "execution_count": 89,
   "metadata": {
    "id": "qq_u9BsB1fW-"
   },
   "outputs": [],
   "source": [
    "grid_pred = xg_grid.predict(test_vector)"
   ]
  },
  {
   "cell_type": "code",
   "execution_count": 90,
   "metadata": {
    "id": "TYZ_t1T18LVp"
   },
   "outputs": [
    {
     "data": {
      "text/plain": [
       "{0: {'precision': 0.9025110782865583,\n",
       "  'recall': 0.9133034379671151,\n",
       "  'f1-score': 0.9078751857355126,\n",
       "  'support': 669},\n",
       " 1: {'precision': 0.6133333333333333,\n",
       "  'recall': 0.5822784810126582,\n",
       "  'f1-score': 0.5974025974025974,\n",
       "  'support': 158},\n",
       " 'accuracy': 0.8500604594921403,\n",
       " 'macro avg': {'precision': 0.7579222058099457,\n",
       "  'recall': 0.7477909594898866,\n",
       "  'f1-score': 0.752638891569055,\n",
       "  'support': 827},\n",
       " 'weighted avg': {'precision': 0.8472630931564379,\n",
       "  'recall': 0.8500604594921403,\n",
       "  'f1-score': 0.8485587782910137,\n",
       "  'support': 827}}"
      ]
     },
     "execution_count": 90,
     "metadata": {},
     "output_type": "execute_result"
    }
   ],
   "source": [
    "class_report(y_test, grid_pred)"
   ]
  },
  {
   "attachments": {},
   "cell_type": "markdown",
   "metadata": {
    "id": "GDbiLNtA8LBy"
   },
   "source": [
    "## RandomForestClassifier."
   ]
  },
  {
   "cell_type": "code",
   "execution_count": 23,
   "metadata": {
    "id": "MnO8fc0M1fW-"
   },
   "outputs": [],
   "source": [
    "rand_f = RandomForestClassifier()"
   ]
  },
  {
   "cell_type": "code",
   "execution_count": 24,
   "metadata": {
    "id": "Z-Z6Bbmg1fW_"
   },
   "outputs": [
    {
     "data": {
      "text/html": [
       "<style>#sk-container-id-1 {color: black;background-color: white;}#sk-container-id-1 pre{padding: 0;}#sk-container-id-1 div.sk-toggleable {background-color: white;}#sk-container-id-1 label.sk-toggleable__label {cursor: pointer;display: block;width: 100%;margin-bottom: 0;padding: 0.3em;box-sizing: border-box;text-align: center;}#sk-container-id-1 label.sk-toggleable__label-arrow:before {content: \"▸\";float: left;margin-right: 0.25em;color: #696969;}#sk-container-id-1 label.sk-toggleable__label-arrow:hover:before {color: black;}#sk-container-id-1 div.sk-estimator:hover label.sk-toggleable__label-arrow:before {color: black;}#sk-container-id-1 div.sk-toggleable__content {max-height: 0;max-width: 0;overflow: hidden;text-align: left;background-color: #f0f8ff;}#sk-container-id-1 div.sk-toggleable__content pre {margin: 0.2em;color: black;border-radius: 0.25em;background-color: #f0f8ff;}#sk-container-id-1 input.sk-toggleable__control:checked~div.sk-toggleable__content {max-height: 200px;max-width: 100%;overflow: auto;}#sk-container-id-1 input.sk-toggleable__control:checked~label.sk-toggleable__label-arrow:before {content: \"▾\";}#sk-container-id-1 div.sk-estimator input.sk-toggleable__control:checked~label.sk-toggleable__label {background-color: #d4ebff;}#sk-container-id-1 div.sk-label input.sk-toggleable__control:checked~label.sk-toggleable__label {background-color: #d4ebff;}#sk-container-id-1 input.sk-hidden--visually {border: 0;clip: rect(1px 1px 1px 1px);clip: rect(1px, 1px, 1px, 1px);height: 1px;margin: -1px;overflow: hidden;padding: 0;position: absolute;width: 1px;}#sk-container-id-1 div.sk-estimator {font-family: monospace;background-color: #f0f8ff;border: 1px dotted black;border-radius: 0.25em;box-sizing: border-box;margin-bottom: 0.5em;}#sk-container-id-1 div.sk-estimator:hover {background-color: #d4ebff;}#sk-container-id-1 div.sk-parallel-item::after {content: \"\";width: 100%;border-bottom: 1px solid gray;flex-grow: 1;}#sk-container-id-1 div.sk-label:hover label.sk-toggleable__label {background-color: #d4ebff;}#sk-container-id-1 div.sk-serial::before {content: \"\";position: absolute;border-left: 1px solid gray;box-sizing: border-box;top: 0;bottom: 0;left: 50%;z-index: 0;}#sk-container-id-1 div.sk-serial {display: flex;flex-direction: column;align-items: center;background-color: white;padding-right: 0.2em;padding-left: 0.2em;position: relative;}#sk-container-id-1 div.sk-item {position: relative;z-index: 1;}#sk-container-id-1 div.sk-parallel {display: flex;align-items: stretch;justify-content: center;background-color: white;position: relative;}#sk-container-id-1 div.sk-item::before, #sk-container-id-1 div.sk-parallel-item::before {content: \"\";position: absolute;border-left: 1px solid gray;box-sizing: border-box;top: 0;bottom: 0;left: 50%;z-index: -1;}#sk-container-id-1 div.sk-parallel-item {display: flex;flex-direction: column;z-index: 1;position: relative;background-color: white;}#sk-container-id-1 div.sk-parallel-item:first-child::after {align-self: flex-end;width: 50%;}#sk-container-id-1 div.sk-parallel-item:last-child::after {align-self: flex-start;width: 50%;}#sk-container-id-1 div.sk-parallel-item:only-child::after {width: 0;}#sk-container-id-1 div.sk-dashed-wrapped {border: 1px dashed gray;margin: 0 0.4em 0.5em 0.4em;box-sizing: border-box;padding-bottom: 0.4em;background-color: white;}#sk-container-id-1 div.sk-label label {font-family: monospace;font-weight: bold;display: inline-block;line-height: 1.2em;}#sk-container-id-1 div.sk-label-container {text-align: center;}#sk-container-id-1 div.sk-container {/* jupyter's `normalize.less` sets `[hidden] { display: none; }` but bootstrap.min.css set `[hidden] { display: none !important; }` so we also need the `!important` here to be able to override the default hidden behavior on the sphinx rendered scikit-learn.org. See: https://github.com/scikit-learn/scikit-learn/issues/21755 */display: inline-block !important;position: relative;}#sk-container-id-1 div.sk-text-repr-fallback {display: none;}</style><div id=\"sk-container-id-1\" class=\"sk-top-container\"><div class=\"sk-text-repr-fallback\"><pre>RandomForestClassifier()</pre><b>In a Jupyter environment, please rerun this cell to show the HTML representation or trust the notebook. <br />On GitHub, the HTML representation is unable to render, please try loading this page with nbviewer.org.</b></div><div class=\"sk-container\" hidden><div class=\"sk-item\"><div class=\"sk-estimator sk-toggleable\"><input class=\"sk-toggleable__control sk-hidden--visually\" id=\"sk-estimator-id-1\" type=\"checkbox\" checked><label for=\"sk-estimator-id-1\" class=\"sk-toggleable__label sk-toggleable__label-arrow\">RandomForestClassifier</label><div class=\"sk-toggleable__content\"><pre>RandomForestClassifier()</pre></div></div></div></div></div>"
      ],
      "text/plain": [
       "RandomForestClassifier()"
      ]
     },
     "execution_count": 24,
     "metadata": {},
     "output_type": "execute_result"
    }
   ],
   "source": [
    "rand_f.fit(train_vector, y_train)"
   ]
  },
  {
   "cell_type": "code",
   "execution_count": 25,
   "metadata": {
    "id": "AnnE7TM11fW_"
   },
   "outputs": [],
   "source": [
    "rf_pred = rand_f.predict(test_vector)"
   ]
  },
  {
   "cell_type": "code",
   "execution_count": 26,
   "metadata": {
    "id": "FF1tYBwm1fXA"
   },
   "outputs": [
    {
     "data": {
      "text/plain": [
       "{0: {'precision': 0.8695652173913043,\n",
       "  'recall': 0.9865470852017937,\n",
       "  'f1-score': 0.9243697478991596,\n",
       "  'support': 669},\n",
       " 1: {'precision': 0.8676470588235294,\n",
       "  'recall': 0.37341772151898733,\n",
       "  'f1-score': 0.5221238938053098,\n",
       "  'support': 158},\n",
       " 'accuracy': 0.8694074969770254,\n",
       " 'macro avg': {'precision': 0.8686061381074168,\n",
       "  'recall': 0.6799824033603905,\n",
       "  'f1-score': 0.7232468208522347,\n",
       "  'support': 827},\n",
       " 'weighted avg': {'precision': 0.8691987493698915,\n",
       "  'recall': 0.8694074969770254,\n",
       "  'f1-score': 0.8475198749283878,\n",
       "  'support': 827}}"
      ]
     },
     "execution_count": 26,
     "metadata": {},
     "output_type": "execute_result"
    }
   ],
   "source": [
    "class_report(y_test, rf_pred)"
   ]
  },
  {
   "cell_type": "code",
   "execution_count": 35,
   "metadata": {},
   "outputs": [
    {
     "name": "stdout",
     "output_type": "stream",
     "text": [
      "Fitting 3 folds for each of 648 candidates, totalling 1944 fits\n"
     ]
    },
    {
     "name": "stderr",
     "output_type": "stream",
     "text": [
      "C:\\Users\\User\\anaconda3\\Lib\\site-packages\\sklearn\\ensemble\\_forest.py:424: FutureWarning: `max_features='auto'` has been deprecated in 1.1 and will be removed in 1.3. To keep the past behaviour, explicitly set `max_features='sqrt'` or remove this parameter as it is also the default value for RandomForestClassifiers and ExtraTreesClassifiers.\n",
      "  warn(\n"
     ]
    },
    {
     "name": "stdout",
     "output_type": "stream",
     "text": [
      "Best Parameters: {'bootstrap': False, 'max_depth': 30, 'max_features': 'auto', 'min_samples_leaf': 2, 'min_samples_split': 2, 'n_estimators': 100}\n",
      "Best Precision Score: 0.37767115376071797\n",
      "Test Precision: 0.8181818181818182\n"
     ]
    }
   ],
   "source": [
    "# tuning rf\n",
    "# Initialize the RandomForestClassifier\n",
    "rf = RandomForestClassifier(random_state=42)\n",
    "\n",
    "# Set up the parameter grid for GridSearchCV\n",
    "param_grid = {\n",
    "    'n_estimators': [100, 200, 300],  # Number of trees\n",
    "    'max_depth': [None, 10, 20, 30],  # Depth of the trees\n",
    "    'min_samples_split': [2, 5, 10],  # Min samples required to split an internal node\n",
    "    'min_samples_leaf': [2, 4, 8],  # Min samples required at a leaf node\n",
    "    'max_features': ['auto', 'sqrt', 'log2'],  # Number of features to consider at each split\n",
    "    'bootstrap': [True, False]  # Whether to use bootstrap sampling\n",
    "}\n",
    "\n",
    "# Set up GridSearchCV with the Random Forest Classifier\n",
    "grid_search = GridSearchCV(estimator=rf, param_grid=param_grid, cv=3, scoring='recall', n_jobs=-1, verbose=2)\n",
    "\n",
    "# Fit the model using GridSearchCV\n",
    "grid_search.fit(train_vector, y_train)\n",
    "\n",
    "# Print out the best parameters and score\n",
    "print(f\"Best Parameters: {grid_search.best_params_}\")\n",
    "print(f\"Best Precision Score: {grid_search.best_score_}\")\n",
    "\n",
    "# Evaluate on the test set\n",
    "best_rf = grid_search.best_estimator_\n",
    "y_pred = best_rf.predict(test_vector)\n",
    "print(f\"Test Precision: {precision_score(y_test, y_pred)}\")"
   ]
  },
  {
   "cell_type": "code",
   "execution_count": 62,
   "metadata": {},
   "outputs": [
    {
     "data": {
      "text/html": [
       "<div>\n",
       "<style scoped>\n",
       "    .dataframe tbody tr th:only-of-type {\n",
       "        vertical-align: middle;\n",
       "    }\n",
       "\n",
       "    .dataframe tbody tr th {\n",
       "        vertical-align: top;\n",
       "    }\n",
       "\n",
       "    .dataframe thead th {\n",
       "        text-align: right;\n",
       "    }\n",
       "</style>\n",
       "<table border=\"1\" class=\"dataframe\">\n",
       "  <thead>\n",
       "    <tr style=\"text-align: right;\">\n",
       "      <th></th>\n",
       "      <th>Predicted 0</th>\n",
       "      <th>Predicted 1</th>\n",
       "    </tr>\n",
       "  </thead>\n",
       "  <tbody>\n",
       "    <tr>\n",
       "      <th>Actual 0</th>\n",
       "      <td>560</td>\n",
       "      <td>109</td>\n",
       "    </tr>\n",
       "    <tr>\n",
       "      <th>Actual 1</th>\n",
       "      <td>48</td>\n",
       "      <td>110</td>\n",
       "    </tr>\n",
       "  </tbody>\n",
       "</table>\n",
       "</div>"
      ],
      "text/plain": [
       "          Predicted 0  Predicted 1\n",
       "Actual 0          560          109\n",
       "Actual 1           48          110"
      ]
     },
     "execution_count": 62,
     "metadata": {},
     "output_type": "execute_result"
    }
   ],
   "source": [
    "cm=confusion_matrix(y_test, lgb_pred)\n",
    "cm_df = pd.DataFrame(cm, index=['Actual 0', 'Actual 1'], columns=['Predicted 0', 'Predicted 1'])\n",
    "cm_df"
   ]
  },
  {
   "cell_type": "code",
   "execution_count": 30,
   "metadata": {},
   "outputs": [
    {
     "data": {
      "text/plain": [
       "0.7278481012658228"
      ]
     },
     "execution_count": 30,
     "metadata": {},
     "output_type": "execute_result"
    }
   ],
   "source": [
    "recall_score(y_test, y_pred)"
   ]
  },
  {
   "cell_type": "code",
   "execution_count": 34,
   "metadata": {},
   "outputs": [
    {
     "data": {
      "text/plain": [
       "0.9375"
      ]
     },
     "execution_count": 34,
     "metadata": {},
     "output_type": "execute_result"
    }
   ],
   "source": [
    "15/16"
   ]
  },
  {
   "cell_type": "code",
   "execution_count": 26,
   "metadata": {},
   "outputs": [],
   "source": [
    "from sklearn.naive_bayes import GaussianNB\n",
    "gnb = GaussianNB()\n",
    "gnb.fit(train_vector, y_train)\n",
    "gnb_pred = gnb.predict(test_vector)"
   ]
  },
  {
   "cell_type": "code",
   "execution_count": 27,
   "metadata": {},
   "outputs": [
    {
     "name": "stdout",
     "output_type": "stream",
     "text": [
      "Best Parameters: {'var_smoothing': 0.01}\n",
      "Best Recall Score: 0.4990\n",
      "Test Set Recall: 0.7278\n",
      "CPU times: total: 1.12 s\n",
      "Wall time: 11.5 s\n"
     ]
    }
   ],
   "source": [
    "%%time\n",
    "# Define the Gaussian Naïve Bayes model\n",
    "gnb = GaussianNB()\n",
    "\n",
    "# Define hyperparameter grid\n",
    "param_grid = {\n",
    "    \"var_smoothing\": np.logspace(-100, -2, 50)  # Search across a log scale\n",
    "}\n",
    "\n",
    "# Define scoring metric as precision\n",
    "scorer = make_scorer(f1_score)\n",
    "\n",
    "# Perform GridSearchCV\n",
    "grid_search = GridSearchCV(gnb, param_grid, scoring=scorer, cv=5, n_jobs=-1)\n",
    "grid_search.fit(train_vector, y_train)\n",
    "\n",
    "# Best parameters and best score\n",
    "print(f\"Best Parameters: {grid_search.best_params_}\")\n",
    "print(f\"Best Recall Score: {grid_search.best_score_:.4f}\")\n",
    "\n",
    "# Evaluate on test set\n",
    "best_gnb = grid_search.best_estimator_\n",
    "y_pred = best_gnb.predict(test_vector)\n",
    "recall = recall_score(y_test, y_pred)\n",
    "\n",
    "print(f\"Test Set Recall: {recall:.4f}\")"
   ]
  },
  {
   "cell_type": "code",
   "execution_count": null,
   "metadata": {},
   "outputs": [],
   "source": [
    "dump(best_gnb, \"models/naive_bayes.joblib\")"
   ]
  },
  {
   "cell_type": "code",
   "execution_count": 31,
   "metadata": {},
   "outputs": [
    {
     "data": {
      "text/plain": [
       "{0: {'precision': 0.9148514851485149,\n",
       "  'recall': 0.6905829596412556,\n",
       "  'f1-score': 0.787052810902896,\n",
       "  'support': 669},\n",
       " 1: {'precision': 0.35714285714285715,\n",
       "  'recall': 0.7278481012658228,\n",
       "  'f1-score': 0.4791666666666667,\n",
       "  'support': 158},\n",
       " 'accuracy': 0.6977025392986699,\n",
       " 'macro avg': {'precision': 0.635997171145686,\n",
       "  'recall': 0.7092155304535392,\n",
       "  'f1-score': 0.6331097387847814,\n",
       "  'support': 827},\n",
       " 'weighted avg': {'precision': 0.8083001390482804,\n",
       "  'recall': 0.6977025392986699,\n",
       "  'f1-score': 0.7282305487634473,\n",
       "  'support': 827}}"
      ]
     },
     "execution_count": 31,
     "metadata": {},
     "output_type": "execute_result"
    }
   ],
   "source": [
    "class_report(y_test, y_pred)"
   ]
  },
  {
   "cell_type": "code",
   "execution_count": null,
   "metadata": {
    "id": "fLcMXZc_1fXr"
   },
   "outputs": [],
   "source": []
  },
  {
   "attachments": {},
   "cell_type": "markdown",
   "metadata": {
    "id": "xSv2u0221fXs"
   },
   "source": [
    "## Light Gradient boosting"
   ]
  },
  {
   "cell_type": "code",
   "execution_count": 58,
   "metadata": {},
   "outputs": [],
   "source": [
    "params = {'colsample_bytree': 0.7, 'learning_rate': 0.01, 'max_depth': 10, 'min_child_samples': 25, 'n_estimators': 500, 'num_leaves': 128, 'scale_pos_weight': 30, 'subsample': 0.7}\n",
    "lgb = LGBMClassifier(**params)"
   ]
  },
  {
   "cell_type": "code",
   "execution_count": 59,
   "metadata": {
    "id": "iNJo5Vni1fXt"
   },
   "outputs": [
    {
     "data": {
      "text/html": [
       "<style>#sk-container-id-6 {color: black;background-color: white;}#sk-container-id-6 pre{padding: 0;}#sk-container-id-6 div.sk-toggleable {background-color: white;}#sk-container-id-6 label.sk-toggleable__label {cursor: pointer;display: block;width: 100%;margin-bottom: 0;padding: 0.3em;box-sizing: border-box;text-align: center;}#sk-container-id-6 label.sk-toggleable__label-arrow:before {content: \"▸\";float: left;margin-right: 0.25em;color: #696969;}#sk-container-id-6 label.sk-toggleable__label-arrow:hover:before {color: black;}#sk-container-id-6 div.sk-estimator:hover label.sk-toggleable__label-arrow:before {color: black;}#sk-container-id-6 div.sk-toggleable__content {max-height: 0;max-width: 0;overflow: hidden;text-align: left;background-color: #f0f8ff;}#sk-container-id-6 div.sk-toggleable__content pre {margin: 0.2em;color: black;border-radius: 0.25em;background-color: #f0f8ff;}#sk-container-id-6 input.sk-toggleable__control:checked~div.sk-toggleable__content {max-height: 200px;max-width: 100%;overflow: auto;}#sk-container-id-6 input.sk-toggleable__control:checked~label.sk-toggleable__label-arrow:before {content: \"▾\";}#sk-container-id-6 div.sk-estimator input.sk-toggleable__control:checked~label.sk-toggleable__label {background-color: #d4ebff;}#sk-container-id-6 div.sk-label input.sk-toggleable__control:checked~label.sk-toggleable__label {background-color: #d4ebff;}#sk-container-id-6 input.sk-hidden--visually {border: 0;clip: rect(1px 1px 1px 1px);clip: rect(1px, 1px, 1px, 1px);height: 1px;margin: -1px;overflow: hidden;padding: 0;position: absolute;width: 1px;}#sk-container-id-6 div.sk-estimator {font-family: monospace;background-color: #f0f8ff;border: 1px dotted black;border-radius: 0.25em;box-sizing: border-box;margin-bottom: 0.5em;}#sk-container-id-6 div.sk-estimator:hover {background-color: #d4ebff;}#sk-container-id-6 div.sk-parallel-item::after {content: \"\";width: 100%;border-bottom: 1px solid gray;flex-grow: 1;}#sk-container-id-6 div.sk-label:hover label.sk-toggleable__label {background-color: #d4ebff;}#sk-container-id-6 div.sk-serial::before {content: \"\";position: absolute;border-left: 1px solid gray;box-sizing: border-box;top: 0;bottom: 0;left: 50%;z-index: 0;}#sk-container-id-6 div.sk-serial {display: flex;flex-direction: column;align-items: center;background-color: white;padding-right: 0.2em;padding-left: 0.2em;position: relative;}#sk-container-id-6 div.sk-item {position: relative;z-index: 1;}#sk-container-id-6 div.sk-parallel {display: flex;align-items: stretch;justify-content: center;background-color: white;position: relative;}#sk-container-id-6 div.sk-item::before, #sk-container-id-6 div.sk-parallel-item::before {content: \"\";position: absolute;border-left: 1px solid gray;box-sizing: border-box;top: 0;bottom: 0;left: 50%;z-index: -1;}#sk-container-id-6 div.sk-parallel-item {display: flex;flex-direction: column;z-index: 1;position: relative;background-color: white;}#sk-container-id-6 div.sk-parallel-item:first-child::after {align-self: flex-end;width: 50%;}#sk-container-id-6 div.sk-parallel-item:last-child::after {align-self: flex-start;width: 50%;}#sk-container-id-6 div.sk-parallel-item:only-child::after {width: 0;}#sk-container-id-6 div.sk-dashed-wrapped {border: 1px dashed gray;margin: 0 0.4em 0.5em 0.4em;box-sizing: border-box;padding-bottom: 0.4em;background-color: white;}#sk-container-id-6 div.sk-label label {font-family: monospace;font-weight: bold;display: inline-block;line-height: 1.2em;}#sk-container-id-6 div.sk-label-container {text-align: center;}#sk-container-id-6 div.sk-container {/* jupyter's `normalize.less` sets `[hidden] { display: none; }` but bootstrap.min.css set `[hidden] { display: none !important; }` so we also need the `!important` here to be able to override the default hidden behavior on the sphinx rendered scikit-learn.org. See: https://github.com/scikit-learn/scikit-learn/issues/21755 */display: inline-block !important;position: relative;}#sk-container-id-6 div.sk-text-repr-fallback {display: none;}</style><div id=\"sk-container-id-6\" class=\"sk-top-container\"><div class=\"sk-text-repr-fallback\"><pre>LGBMClassifier(colsample_bytree=0.7, learning_rate=0.01, max_depth=10,\n",
       "               min_child_samples=25, n_estimators=500, num_leaves=128,\n",
       "               scale_pos_weight=30, subsample=0.7)</pre><b>In a Jupyter environment, please rerun this cell to show the HTML representation or trust the notebook. <br />On GitHub, the HTML representation is unable to render, please try loading this page with nbviewer.org.</b></div><div class=\"sk-container\" hidden><div class=\"sk-item\"><div class=\"sk-estimator sk-toggleable\"><input class=\"sk-toggleable__control sk-hidden--visually\" id=\"sk-estimator-id-6\" type=\"checkbox\" checked><label for=\"sk-estimator-id-6\" class=\"sk-toggleable__label sk-toggleable__label-arrow\">LGBMClassifier</label><div class=\"sk-toggleable__content\"><pre>LGBMClassifier(colsample_bytree=0.7, learning_rate=0.01, max_depth=10,\n",
       "               min_child_samples=25, n_estimators=500, num_leaves=128,\n",
       "               scale_pos_weight=30, subsample=0.7)</pre></div></div></div></div></div>"
      ],
      "text/plain": [
       "LGBMClassifier(colsample_bytree=0.7, learning_rate=0.01, max_depth=10,\n",
       "               min_child_samples=25, n_estimators=500, num_leaves=128,\n",
       "               scale_pos_weight=30, subsample=0.7)"
      ]
     },
     "execution_count": 59,
     "metadata": {},
     "output_type": "execute_result"
    }
   ],
   "source": [
    "lgb.fit(train_vector, y_train)"
   ]
  },
  {
   "cell_type": "code",
   "execution_count": 60,
   "metadata": {
    "id": "mbVM2Xbl1fXt"
   },
   "outputs": [],
   "source": [
    "lgb_pred = lgb.predict(test_vector)"
   ]
  },
  {
   "cell_type": "code",
   "execution_count": 63,
   "metadata": {},
   "outputs": [
    {
     "data": {
      "text/plain": [
       "['models/lgb.joblib']"
      ]
     },
     "execution_count": 63,
     "metadata": {},
     "output_type": "execute_result"
    }
   ],
   "source": [
    "dump(lgb, 'models/lgb.joblib')"
   ]
  },
  {
   "cell_type": "code",
   "execution_count": 61,
   "metadata": {
    "id": "7qFOegsF1fXu"
   },
   "outputs": [
    {
     "data": {
      "text/plain": [
       "{0: {'precision': 0.9210526315789473,\n",
       "  'recall': 0.8370702541106129,\n",
       "  'f1-score': 0.8770555990602976,\n",
       "  'support': 669},\n",
       " 1: {'precision': 0.502283105022831,\n",
       "  'recall': 0.6962025316455697,\n",
       "  'f1-score': 0.583554376657825,\n",
       "  'support': 158},\n",
       " 'accuracy': 0.8101571946795647,\n",
       " 'macro avg': {'precision': 0.7116678683008892,\n",
       "  'recall': 0.7666363928780913,\n",
       "  'f1-score': 0.7303049878590613,\n",
       "  'support': 827},\n",
       " 'weighted avg': {'precision': 0.8410458780168356,\n",
       "  'recall': 0.8101571946795647,\n",
       "  'f1-score': 0.8209816049374553,\n",
       "  'support': 827}}"
      ]
     },
     "execution_count": 61,
     "metadata": {},
     "output_type": "execute_result"
    }
   ],
   "source": [
    "class_report(y_test, lgb_pred)"
   ]
  },
  {
   "cell_type": "code",
   "execution_count": 33,
   "metadata": {
    "id": "3blNUfFj1fXu"
   },
   "outputs": [
    {
     "name": "stdout",
     "output_type": "stream",
     "text": [
      "Fitting 5 folds for each of 192 candidates, totalling 960 fits\n",
      "Best Parameters: {'colsample_bytree': 0.7, 'learning_rate': 0.1, 'max_depth': 10, 'min_child_samples': 20, 'n_estimators': 100, 'num_leaves': 128, 'scale_pos_weight': 20, 'subsample': 0.7}\n",
      "Best F1 Score: 0.6142\n",
      "Test Set F1 Score: 0.6025\n",
      "CPU times: total: 22.3 s\n",
      "Wall time: 25min 16s\n"
     ]
    }
   ],
   "source": [
    "%%time\n",
    "# Define the LightGBM model\n",
    "lgbm = LGBMClassifier(objective=\"binary\", random_state=42)\n",
    "\n",
    "# Define parameter grid\n",
    "param_grid = {\n",
    "    \"num_leaves\": [64, 128],  # Controls complexity\n",
    "    \"max_depth\": [-1, 10, 20],    # Limits tree depth (-1 means no limit)\n",
    "    \"learning_rate\": [0.1, 0.2],  # Step size for gradient descent\n",
    "    \"n_estimators\": [100, 300],  # Number of boosting rounds\n",
    "    \"min_child_samples\": [10, 20],  # Minimum data in leaf nodes\n",
    "    \"subsample\": [0.7, 0.8],  # Fraction of data per tree (regularization)\n",
    "    \"colsample_bytree\": [0.7, 0.8],  # Fraction of features per tree (regularization)\n",
    "    \"scale_pos_weight\":[20]\n",
    "}\n",
    "\n",
    "# Define scoring metric (F1-score)\n",
    "scorer = make_scorer(recall_score)  # Adjust 'macro' for multi-class cases\n",
    "\n",
    "# Perform GridSearchCV\n",
    "grid_search = GridSearchCV(lgbm, param_grid, scoring=scorer, cv=5, n_jobs=-1, verbose=10)\n",
    "grid_search.fit(train_vector, y_train)\n",
    "\n",
    "# Best parameters and best score\n",
    "print(f\"Best Parameters: {grid_search.best_params_}\")\n",
    "print(f\"Best F1 Score: {grid_search.best_score_:.4f}\")\n",
    "\n",
    "# Evaluate on test set\n",
    "best_lgbm = grid_search.best_estimator_\n",
    "y_pred = best_lgbm.predict(test_vector)\n",
    "f1 = f1_score(y_test, y_pred)\n",
    "\n",
    "print(f\"Test Set F1 Score: {f1:.4f}\")"
   ]
  },
  {
   "cell_type": "code",
   "execution_count": 34,
   "metadata": {
    "id": "zi91q2Rg1fXv"
   },
   "outputs": [
    {
     "data": {
      "text/plain": [
       "{0: {'precision': 0.9079939668174962,\n",
       "  'recall': 0.8998505231689088,\n",
       "  'f1-score': 0.9039039039039038,\n",
       "  'support': 669},\n",
       " 1: {'precision': 0.5914634146341463,\n",
       "  'recall': 0.6139240506329114,\n",
       "  'f1-score': 0.6024844720496895,\n",
       "  'support': 158},\n",
       " 'accuracy': 0.845223700120919,\n",
       " 'macro avg': {'precision': 0.7497286907258213,\n",
       "  'recall': 0.7568872869009101,\n",
       "  'f1-score': 0.7531941879767967,\n",
       "  'support': 827},\n",
       " 'weighted avg': {'precision': 0.847520173292745,\n",
       "  'recall': 0.845223700120919,\n",
       "  'f1-score': 0.8463171200671857,\n",
       "  'support': 827}}"
      ]
     },
     "execution_count": 34,
     "metadata": {},
     "output_type": "execute_result"
    }
   ],
   "source": [
    "class_report(y_test, y_pred)"
   ]
  },
  {
   "cell_type": "code",
   "execution_count": null,
   "metadata": {},
   "outputs": [],
   "source": []
  }
 ],
 "metadata": {
  "accelerator": "GPU",
  "colab": {
   "collapsed_sections": [
    "M7Sg5V141fWC"
   ],
   "provenance": []
  },
  "kernelspec": {
   "display_name": "Python 3 (ipykernel)",
   "language": "python",
   "name": "python3"
  },
  "language_info": {
   "codemirror_mode": {
    "name": "ipython",
    "version": 3
   },
   "file_extension": ".py",
   "mimetype": "text/x-python",
   "name": "python",
   "nbconvert_exporter": "python",
   "pygments_lexer": "ipython3",
   "version": "3.11.3"
  }
 },
 "nbformat": 4,
 "nbformat_minor": 1
}
